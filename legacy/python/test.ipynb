{
 "cells": [
  {
   "cell_type": "code",
   "execution_count": 1,
   "metadata": {},
   "outputs": [],
   "source": [
    "import sys\n",
    "sys.path.insert(1,'C:/Users/justi/Documents/coding_projects/flamio/')\n",
    "import spotipy_master.spotipy as spotipy\n",
    "import flamio\n",
    "import client"
   ]
  },
  {
   "cell_type": "code",
   "execution_count": 2,
   "metadata": {},
   "outputs": [],
   "source": [
    "flamio.new_user_and_service('jr','spotify','12125880630')"
   ]
  },
  {
   "cell_type": "code",
   "execution_count": 2,
   "metadata": {},
   "outputs": [
    {
     "data": {
      "text/plain": [
       "'BQDLpiCcC6YY6daf7UVpeea2adbaVhs0LgxWHaoGpWA-T9vriTn-lxwRyvjwWAyjXW2PBuqX_oz0QQ6AP8LMVo_uIhXW6Y74D4WHE3JpW0hR7NS6G5CHRsxNrNlxgli0rZEfnjEfU7pCl2KqVJk72BGk7oSSCEk'"
      ]
     },
     "execution_count": 2,
     "metadata": {},
     "output_type": "execute_result"
    }
   ],
   "source": [
    "flamio.get_user('jr','spotify')['token']"
   ]
  },
  {
   "cell_type": "code",
   "execution_count": 3,
   "metadata": {},
   "outputs": [],
   "source": [
    "token = flamio.get_user('jr','spotify')['token']"
   ]
  },
  {
   "cell_type": "code",
   "execution_count": 2,
   "metadata": {},
   "outputs": [
    {
     "data": {
      "text/plain": [
       "{'__base__': {},\n",
       " 'jr': {'name': 'jr',\n",
       "  'spotify': {'flamio_name': 'jr',\n",
       "   'service': 'spotify',\n",
       "   'pauseKill': True,\n",
       "   'login_time': 1575338250.5303261,\n",
       "   'refresh': 3600,\n",
       "   'username': '12125880630',\n",
       "   'token': 'BQDLpiCcC6YY6daf7UVpeea2adbaVhs0LgxWHaoGpWA-T9vriTn-lxwRyvjwWAyjXW2PBuqX_oz0QQ6AP8LMVo_uIhXW6Y74D4WHE3JpW0hR7NS6G5CHRsxNrNlxgli0rZEfnjEfU7pCl2KqVJk72BGk7oSSCEk',\n",
       "   'loop': {},\n",
       "   'cut': {},\n",
       "   'skip': {},\n",
       "   'mix': {}},\n",
       "  'soundcloud': {},\n",
       "  'apple_music': {}}}"
      ]
     },
     "execution_count": 2,
     "metadata": {},
     "output_type": "execute_result"
    }
   ],
   "source": [
    "flamio.get_users()"
   ]
  },
  {
   "cell_type": "code",
   "execution_count": 2,
   "metadata": {},
   "outputs": [],
   "source": [
    "users = flamio.get_users()"
   ]
  },
  {
   "cell_type": "code",
   "execution_count": null,
   "metadata": {},
   "outputs": [],
   "source": [
    "spotipy.Spotify(auth=token).current_playback()['item']['id']"
   ]
  },
  {
   "cell_type": "code",
   "execution_count": 9,
   "metadata": {},
   "outputs": [],
   "source": [
    "sp = spotipy.Spotify(auth=token)"
   ]
  },
  {
   "cell_type": "code",
   "execution_count": 16,
   "metadata": {},
   "outputs": [],
   "source": [
    "sp.pause_playback()"
   ]
  },
  {
   "cell_type": "code",
   "execution_count": 14,
   "metadata": {},
   "outputs": [],
   "source": [
    "token=client.get_token(flamio.get_user('jr','spotify'))"
   ]
  },
  {
   "cell_type": "code",
   "execution_count": 16,
   "metadata": {},
   "outputs": [
    {
     "data": {
      "text/plain": [
       "{'display_name': 'Justin Reid',\n",
       " 'external_urls': {'spotify': 'https://open.spotify.com/user/12125880630'},\n",
       " 'followers': {'href': None, 'total': 26},\n",
       " 'href': 'https://api.spotify.com/v1/users/12125880630',\n",
       " 'id': '12125880630',\n",
       " 'images': [{'height': None,\n",
       "   'url': 'https://scontent.xx.fbcdn.net/v/t31.0-1/p320x320/12239336_957355900997348_5331836433461989709_o.jpg?_nc_cat=108&_nc_sid=0c64ff&_nc_ohc=odlfgp2RoyYAX_psl_2&_nc_ht=scontent.xx&_nc_tp=6&oh=6c5cdbf32da9c92673ee409d457326de&oe=5EA77CC9',\n",
       "   'width': None}],\n",
       " 'type': 'user',\n",
       " 'uri': 'spotify:user:12125880630'}"
      ]
     },
     "execution_count": 16,
     "metadata": {},
     "output_type": "execute_result"
    }
   ],
   "source": [
    "client.get_player(flamio.get_user('jr','spotify')).me()"
   ]
  },
  {
   "cell_type": "code",
   "execution_count": 8,
   "metadata": {},
   "outputs": [],
   "source": [
    "client.get_player(flamio.get_user('jr','spotify')).start_playback()"
   ]
  },
  {
   "cell_type": "code",
   "execution_count": 7,
   "metadata": {},
   "outputs": [],
   "source": [
    "client.get_player(flamio.get_user('jr','spotify')).pause_playback()"
   ]
  },
  {
   "cell_type": "code",
   "execution_count": 113,
   "metadata": {},
   "outputs": [],
   "source": [
    "fee, *fi, fung = a.split('/')"
   ]
  },
  {
   "cell_type": "code",
   "execution_count": 144,
   "metadata": {},
   "outputs": [
    {
     "data": {
      "text/plain": [
       "['sfi', 'sfijd']"
      ]
     },
     "execution_count": 144,
     "metadata": {},
     "output_type": "execute_result"
    }
   ],
   "source": [
    "fi"
   ]
  },
  {
   "cell_type": "code",
   "execution_count": 145,
   "metadata": {},
   "outputs": [
    {
     "data": {
      "text/plain": [
       "['sfi']"
      ]
     },
     "execution_count": 145,
     "metadata": {},
     "output_type": "execute_result"
    }
   ],
   "source": [
    "del fi[1]\n",
    "fi"
   ]
  },
  {
   "cell_type": "code",
   "execution_count": 36,
   "metadata": {},
   "outputs": [],
   "source": [
    "b = []"
   ]
  },
  {
   "cell_type": "code",
   "execution_count": 39,
   "metadata": {},
   "outputs": [
    {
     "data": {
      "text/plain": [
       "[3]"
      ]
     },
     "execution_count": 39,
     "metadata": {},
     "output_type": "execute_result"
    }
   ],
   "source": [
    "b.insert(2,3)\n",
    "b"
   ]
  },
  {
   "cell_type": "code",
   "execution_count": 4,
   "metadata": {},
   "outputs": [],
   "source": [
    "# Updating Decorator\n",
    "\n",
    "import os\n",
    "import json\n",
    "\n",
    "SAVE_PATH = './'\n",
    "def save(data):\n",
    "    if not os.path.exists(SAVE_PATH):\n",
    "        os.mkdir(SAVE_PATH)\n",
    "    SAVE_PATH +='/data.json'\n",
    "    if data:\n",
    "        with open(SAVE_PATH, 'w') as f:\n",
    "            json.dump(SAVE_PATH, f)\n",
    "\n",
    "def update(function):\n",
    "    def updater(data, *args, **kwargs):\n",
    "        function(data, *args, **kwargs)\n",
    "        save(data)\n",
    "    \n",
    "    return updater\n",
    "\n",
    "# Request\n",
    "\n",
    "def get(data, path):\n",
    "    keys = path.split('/')\n",
    "    for key in keys:\n",
    "        if key:\n",
    "            data = data[int(key) if type(data) is list else key]\n",
    "    return data\n",
    "\n",
    "@update\n",
    "def put(data, path, new_data):\n",
    "    *keys, final_key = path.split('/')\n",
    "    data = get(data, '/'.join(keys))\n",
    "    if type(data) is list:\n",
    "        data.insert(int(final_key), new_data)\n",
    "    else:\n",
    "        data[final_key] = new_data\n",
    "\n",
    "@update\n",
    "def post(data, path, listType=False):\n",
    "    if path[-1] == '/':\n",
    "        path = path[:-1]\n",
    "    put(data, path, [] if listType else {})\n",
    "\n",
    "@update\n",
    "def delete(data, path):\n",
    "    *keys, final_key = path.split('/')\n",
    "    data = get(data, '/'.join(keys))\n",
    "    del data[int(final_key) if type(data) is list else final_key]"
   ]
  },
  {
   "cell_type": "code",
   "execution_count": 5,
   "metadata": {},
   "outputs": [],
   "source": [
    "def add_loop():\n",
    "    pass\n",
    "\n",
    "def add_skip():\n",
    "    pass"
   ]
  },
  {
   "cell_type": "code",
   "execution_count": 12,
   "metadata": {},
   "outputs": [
    {
     "data": {
      "text/plain": [
       "{'a': 5}"
      ]
     },
     "execution_count": 12,
     "metadata": {},
     "output_type": "execute_result"
    }
   ],
   "source": [
    "path = '/jr/spotify/loop'\n",
    "get(users, path)"
   ]
  },
  {
   "cell_type": "code",
   "execution_count": 23,
   "metadata": {},
   "outputs": [
    {
     "data": {
      "text/plain": [
       "5"
      ]
     },
     "execution_count": 23,
     "metadata": {},
     "output_type": "execute_result"
    }
   ],
   "source": [
    "path = '/jr/spotify/loop/a'\n",
    "get(users, path)"
   ]
  },
  {
   "cell_type": "code",
   "execution_count": 7,
   "metadata": {},
   "outputs": [
    {
     "data": {
      "text/plain": [
       "{'a': 5}"
      ]
     },
     "execution_count": 7,
     "metadata": {},
     "output_type": "execute_result"
    }
   ],
   "source": [
    "path = 'jr/spotify/loop'\n",
    "put(users, path+'/a', 5)\n",
    "get(users,path)"
   ]
  },
  {
   "cell_type": "code",
   "execution_count": 16,
   "metadata": {},
   "outputs": [
    {
     "data": {
      "text/plain": [
       "{'a': 5, 'd': []}"
      ]
     },
     "execution_count": 16,
     "metadata": {},
     "output_type": "execute_result"
    }
   ],
   "source": [
    "path = 'jr/spotify/loop'\n",
    "post(users, path+'/d',True)\n",
    "get(users,path)"
   ]
  },
  {
   "cell_type": "code",
   "execution_count": 18,
   "metadata": {},
   "outputs": [
    {
     "data": {
      "text/plain": [
       "{'a': 5, 'd': [78, 8]}"
      ]
     },
     "execution_count": 18,
     "metadata": {},
     "output_type": "execute_result"
    }
   ],
   "source": [
    "path = 'jr/spotify/loop'\n",
    "put(users, path+'/d/5', 8)\n",
    "get(users,path)"
   ]
  },
  {
   "cell_type": "code",
   "execution_count": 20,
   "metadata": {},
   "outputs": [
    {
     "data": {
      "text/plain": [
       "{'a': 5, 'd': [8]}"
      ]
     },
     "execution_count": 20,
     "metadata": {},
     "output_type": "execute_result"
    }
   ],
   "source": [
    "path = '/jr/spotify/loop'\n",
    "delete(users, path+'/d/0')\n",
    "get(users,path)"
   ]
  },
  {
   "cell_type": "code",
   "execution_count": 11,
   "metadata": {},
   "outputs": [
    {
     "data": {
      "text/plain": [
       "{'name': 'jr',\n",
       " 'spotify': {'flamio_name': 'jr',\n",
       "  'service': 'spotify',\n",
       "  'pauseKill': True,\n",
       "  'login_time': 1575338250.5303261,\n",
       "  'refresh': 3600,\n",
       "  'username': '12125880630',\n",
       "  'token': 'BQDLpiCcC6YY6daf7UVpeea2adbaVhs0LgxWHaoGpWA-T9vriTn-lxwRyvjwWAyjXW2PBuqX_oz0QQ6AP8LMVo_uIhXW6Y74D4WHE3JpW0hR7NS6G5CHRsxNrNlxgli0rZEfnjEfU7pCl2KqVJk72BGk7oSSCEk',\n",
       "  'loop': {'a': 5},\n",
       "  'cut': {},\n",
       "  'skip': {},\n",
       "  'mix': {}},\n",
       " 'soundcloud': {},\n",
       " 'apple_music': {}}"
      ]
     },
     "execution_count": 11,
     "metadata": {},
     "output_type": "execute_result"
    }
   ],
   "source": [
    "get(users,'jr')"
   ]
  },
  {
   "cell_type": "code",
   "execution_count": 134,
   "metadata": {},
   "outputs": [],
   "source": [
    "delete(users,'/jr')"
   ]
  },
  {
   "cell_type": "code",
   "execution_count": 135,
   "metadata": {},
   "outputs": [
    {
     "data": {
      "text/plain": [
       "{'__base__': {}}"
      ]
     },
     "execution_count": 135,
     "metadata": {},
     "output_type": "execute_result"
    }
   ],
   "source": [
    "users"
   ]
  },
  {
   "cell_type": "code",
   "execution_count": 3,
   "metadata": {},
   "outputs": [],
   "source": [
    "import time as t"
   ]
  },
  {
   "cell_type": "code",
   "execution_count": 4,
   "metadata": {},
   "outputs": [],
   "source": [
    "def time_to_ms(time):\n",
    "    \"\"\" '0:00' to miliseconds \"\"\"\n",
    "    minute,seconds = map(float,time.split(':'))\n",
    "    return int(1000*(minute*60 + seconds))"
   ]
  },
  {
   "cell_type": "code",
   "execution_count": 5,
   "metadata": {},
   "outputs": [],
   "source": [
    "def play(sp, song_id, reps, times, loop_reps, positions, username='jr', service='spotify'):\n",
    "    numLoops = len(reps)\n",
    "    try:\n",
    "        sp.start_playback(uris=['https://open.spotify.com/track/{}'.format(song_id)])\n",
    "    except spotipy.SpotifyException:\n",
    "        print('error')\n",
    "        sp = client.get_player(flamio.get_user(username,service))\n",
    "        sp.start_playback(uris=['https://open.spotify.com/track/{}'.format(song_id)])\n",
    "    # for \"loop_reps\" times, repeat the entire list of loop positions\n",
    "    for i in range(loop_reps):\n",
    "        # for each subloop in the list of loops, repeat \"r\" times, the subloop\n",
    "        for k, (r,time,position) in enumerate(zip(reps,times,positions)):\n",
    "            # convert digital time into number of miliseconds\n",
    "            ms = time_to_ms(position)\n",
    "            for j in range(r):\n",
    "                if ms or i or j: # to keep from unessesary seeking back to the beginning of the song\n",
    "                    sp.seek_track(ms)\n",
    "                if (i < loop_reps - 1) or (j < r - 1) or (k < numLoops - 1): # to keep from unessesary sleeping at the end of the entire loop\n",
    "                    t.sleep(time)"
   ]
  },
  {
   "cell_type": "code",
   "execution_count": 49,
   "metadata": {},
   "outputs": [
    {
     "name": "stdout",
     "output_type": "stream",
     "text": [
      "refreshing token\n"
     ]
    }
   ],
   "source": [
    "sp = client.get_player(flamio.get_user('jr','spotify'))"
   ]
  },
  {
   "cell_type": "code",
   "execution_count": 50,
   "metadata": {},
   "outputs": [
    {
     "data": {
      "text/plain": [
       "'40vv9Zbi59BKJd9joX2c5U'"
      ]
     },
     "execution_count": 50,
     "metadata": {},
     "output_type": "execute_result"
    }
   ],
   "source": [
    "sp.current_playback()['item']['id']"
   ]
  },
  {
   "cell_type": "code",
   "execution_count": 51,
   "metadata": {},
   "outputs": [
    {
     "ename": "SpotifyException",
     "evalue": "http status: 404, code:-1 - https://api.spotify.com/v1/me/player/seek?position_ms=0:\n Player command failed: No active device found",
     "output_type": "error",
     "traceback": [
      "\u001b[1;31m---------------------------------------------------------------------------\u001b[0m",
      "\u001b[1;31mHTTPError\u001b[0m                                 Traceback (most recent call last)",
      "\u001b[1;32mC:/Users/justi/Documents/coding_projects/flamio\\spotipy_master\\spotipy\\client.py\u001b[0m in \u001b[0;36m_internal_call\u001b[1;34m(self, method, url, payload, params)\u001b[0m\n\u001b[0;32m    120\u001b[0m         \u001b[1;32mtry\u001b[0m\u001b[1;33m:\u001b[0m\u001b[1;33m\u001b[0m\u001b[1;33m\u001b[0m\u001b[0m\n\u001b[1;32m--> 121\u001b[1;33m             \u001b[0mr\u001b[0m\u001b[1;33m.\u001b[0m\u001b[0mraise_for_status\u001b[0m\u001b[1;33m(\u001b[0m\u001b[1;33m)\u001b[0m\u001b[1;33m\u001b[0m\u001b[1;33m\u001b[0m\u001b[0m\n\u001b[0m\u001b[0;32m    122\u001b[0m         \u001b[1;32mexcept\u001b[0m\u001b[1;33m:\u001b[0m\u001b[1;33m\u001b[0m\u001b[1;33m\u001b[0m\u001b[0m\n",
      "\u001b[1;32m~\\Anaconda3\\lib\\site-packages\\requests\\models.py\u001b[0m in \u001b[0;36mraise_for_status\u001b[1;34m(self)\u001b[0m\n\u001b[0;32m    940\u001b[0m         \u001b[1;32mif\u001b[0m \u001b[0mhttp_error_msg\u001b[0m\u001b[1;33m:\u001b[0m\u001b[1;33m\u001b[0m\u001b[1;33m\u001b[0m\u001b[0m\n\u001b[1;32m--> 941\u001b[1;33m             \u001b[1;32mraise\u001b[0m \u001b[0mHTTPError\u001b[0m\u001b[1;33m(\u001b[0m\u001b[0mhttp_error_msg\u001b[0m\u001b[1;33m,\u001b[0m \u001b[0mresponse\u001b[0m\u001b[1;33m=\u001b[0m\u001b[0mself\u001b[0m\u001b[1;33m)\u001b[0m\u001b[1;33m\u001b[0m\u001b[1;33m\u001b[0m\u001b[0m\n\u001b[0m\u001b[0;32m    942\u001b[0m \u001b[1;33m\u001b[0m\u001b[0m\n",
      "\u001b[1;31mHTTPError\u001b[0m: 404 Client Error: Not Found for url: https://api.spotify.com/v1/me/player/seek?position_ms=0",
      "\nDuring handling of the above exception, another exception occurred:\n",
      "\u001b[1;31mSpotifyException\u001b[0m                          Traceback (most recent call last)",
      "\u001b[1;32m<ipython-input-51-d819f3c989c8>\u001b[0m in \u001b[0;36m<module>\u001b[1;34m\u001b[0m\n\u001b[0;32m      6\u001b[0m \u001b[0mloop_reps\u001b[0m \u001b[1;33m=\u001b[0m \u001b[1;36m1\u001b[0m\u001b[1;33m\u001b[0m\u001b[1;33m\u001b[0m\u001b[0m\n\u001b[0;32m      7\u001b[0m \u001b[0mpositions\u001b[0m \u001b[1;33m=\u001b[0m \u001b[1;33m[\u001b[0m\u001b[1;34m'0:{}'\u001b[0m\u001b[1;33m.\u001b[0m\u001b[0mformat\u001b[0m\u001b[1;33m(\u001b[0m\u001b[0mstart\u001b[0m\u001b[1;33m)\u001b[0m\u001b[1;33m]\u001b[0m\u001b[1;33m\u001b[0m\u001b[1;33m\u001b[0m\u001b[0m\n\u001b[1;32m----> 8\u001b[1;33m \u001b[0mplay\u001b[0m\u001b[1;33m(\u001b[0m\u001b[0msp\u001b[0m\u001b[1;33m,\u001b[0m \u001b[0msong_id\u001b[0m\u001b[1;33m,\u001b[0m \u001b[0mreps\u001b[0m\u001b[1;33m,\u001b[0m \u001b[0mtimes\u001b[0m\u001b[1;33m,\u001b[0m \u001b[0mloop_reps\u001b[0m\u001b[1;33m,\u001b[0m \u001b[0mpositions\u001b[0m\u001b[1;33m)\u001b[0m\u001b[1;33m\u001b[0m\u001b[1;33m\u001b[0m\u001b[0m\n\u001b[0m",
      "\u001b[1;32m<ipython-input-5-2eb953b9bfcb>\u001b[0m in \u001b[0;36mplay\u001b[1;34m(sp, song_id, reps, times, loop_reps, positions, username, service)\u001b[0m\n\u001b[0;32m     15\u001b[0m             \u001b[1;32mfor\u001b[0m \u001b[0mj\u001b[0m \u001b[1;32min\u001b[0m \u001b[0mrange\u001b[0m\u001b[1;33m(\u001b[0m\u001b[0mr\u001b[0m\u001b[1;33m)\u001b[0m\u001b[1;33m:\u001b[0m\u001b[1;33m\u001b[0m\u001b[1;33m\u001b[0m\u001b[0m\n\u001b[0;32m     16\u001b[0m                 \u001b[1;32mif\u001b[0m \u001b[0mms\u001b[0m \u001b[1;32mor\u001b[0m \u001b[0mi\u001b[0m \u001b[1;32mor\u001b[0m \u001b[0mj\u001b[0m\u001b[1;33m:\u001b[0m \u001b[1;31m# to keep from unessesary seeking back to the beginning of the song\u001b[0m\u001b[1;33m\u001b[0m\u001b[1;33m\u001b[0m\u001b[0m\n\u001b[1;32m---> 17\u001b[1;33m                     \u001b[0msp\u001b[0m\u001b[1;33m.\u001b[0m\u001b[0mseek_track\u001b[0m\u001b[1;33m(\u001b[0m\u001b[0mms\u001b[0m\u001b[1;33m)\u001b[0m\u001b[1;33m\u001b[0m\u001b[1;33m\u001b[0m\u001b[0m\n\u001b[0m\u001b[0;32m     18\u001b[0m                 \u001b[1;32mif\u001b[0m \u001b[1;33m(\u001b[0m\u001b[0mi\u001b[0m \u001b[1;33m<\u001b[0m \u001b[0mloop_reps\u001b[0m \u001b[1;33m-\u001b[0m \u001b[1;36m1\u001b[0m\u001b[1;33m)\u001b[0m \u001b[1;32mor\u001b[0m \u001b[1;33m(\u001b[0m\u001b[0mj\u001b[0m \u001b[1;33m<\u001b[0m \u001b[0mr\u001b[0m \u001b[1;33m-\u001b[0m \u001b[1;36m1\u001b[0m\u001b[1;33m)\u001b[0m \u001b[1;32mor\u001b[0m \u001b[1;33m(\u001b[0m\u001b[0mk\u001b[0m \u001b[1;33m<\u001b[0m \u001b[0mnumLoops\u001b[0m \u001b[1;33m-\u001b[0m \u001b[1;36m1\u001b[0m\u001b[1;33m)\u001b[0m\u001b[1;33m:\u001b[0m \u001b[1;31m# to keep from unessesary sleeping at the end of the entire loop\u001b[0m\u001b[1;33m\u001b[0m\u001b[1;33m\u001b[0m\u001b[0m\n\u001b[0;32m     19\u001b[0m                     \u001b[0mt\u001b[0m\u001b[1;33m.\u001b[0m\u001b[0msleep\u001b[0m\u001b[1;33m(\u001b[0m\u001b[0mtime\u001b[0m\u001b[1;33m)\u001b[0m\u001b[1;33m\u001b[0m\u001b[1;33m\u001b[0m\u001b[0m\n",
      "\u001b[1;32mC:/Users/justi/Documents/coding_projects/flamio\\spotipy_master\\spotipy\\client.py\u001b[0m in \u001b[0;36mseek_track\u001b[1;34m(self, position_ms, device_id)\u001b[0m\n\u001b[0;32m    982\u001b[0m             \u001b[0mself\u001b[0m\u001b[1;33m.\u001b[0m\u001b[0m_warn\u001b[0m\u001b[1;33m(\u001b[0m\u001b[1;34m'position_ms must be an integer'\u001b[0m\u001b[1;33m)\u001b[0m\u001b[1;33m\u001b[0m\u001b[1;33m\u001b[0m\u001b[0m\n\u001b[0;32m    983\u001b[0m             \u001b[1;32mreturn\u001b[0m\u001b[1;33m\u001b[0m\u001b[1;33m\u001b[0m\u001b[0m\n\u001b[1;32m--> 984\u001b[1;33m         \u001b[1;32mreturn\u001b[0m \u001b[0mself\u001b[0m\u001b[1;33m.\u001b[0m\u001b[0m_put\u001b[0m\u001b[1;33m(\u001b[0m\u001b[0mself\u001b[0m\u001b[1;33m.\u001b[0m\u001b[0m_append_device_id\u001b[0m\u001b[1;33m(\u001b[0m\u001b[1;34m\"me/player/seek?position_ms=%s\"\u001b[0m \u001b[1;33m%\u001b[0m \u001b[0mposition_ms\u001b[0m\u001b[1;33m,\u001b[0m \u001b[0mdevice_id\u001b[0m\u001b[1;33m)\u001b[0m\u001b[1;33m)\u001b[0m\u001b[1;33m\u001b[0m\u001b[1;33m\u001b[0m\u001b[0m\n\u001b[0m\u001b[0;32m    985\u001b[0m \u001b[1;33m\u001b[0m\u001b[0m\n\u001b[0;32m    986\u001b[0m     \u001b[1;32mdef\u001b[0m \u001b[0mrepeat\u001b[0m\u001b[1;33m(\u001b[0m\u001b[0mself\u001b[0m\u001b[1;33m,\u001b[0m \u001b[0mstate\u001b[0m\u001b[1;33m,\u001b[0m \u001b[0mdevice_id\u001b[0m \u001b[1;33m=\u001b[0m \u001b[1;32mNone\u001b[0m\u001b[1;33m)\u001b[0m\u001b[1;33m:\u001b[0m\u001b[1;33m\u001b[0m\u001b[1;33m\u001b[0m\u001b[0m\n",
      "\u001b[1;32mC:/Users/justi/Documents/coding_projects/flamio\\spotipy_master\\spotipy\\client.py\u001b[0m in \u001b[0;36m_put\u001b[1;34m(self, url, args, payload, **kwargs)\u001b[0m\n\u001b[0;32m    188\u001b[0m         \u001b[1;32mif\u001b[0m \u001b[0margs\u001b[0m\u001b[1;33m:\u001b[0m\u001b[1;33m\u001b[0m\u001b[1;33m\u001b[0m\u001b[0m\n\u001b[0;32m    189\u001b[0m             \u001b[0mkwargs\u001b[0m\u001b[1;33m.\u001b[0m\u001b[0mupdate\u001b[0m\u001b[1;33m(\u001b[0m\u001b[0margs\u001b[0m\u001b[1;33m)\u001b[0m\u001b[1;33m\u001b[0m\u001b[1;33m\u001b[0m\u001b[0m\n\u001b[1;32m--> 190\u001b[1;33m         \u001b[1;32mreturn\u001b[0m \u001b[0mself\u001b[0m\u001b[1;33m.\u001b[0m\u001b[0m_internal_call\u001b[0m\u001b[1;33m(\u001b[0m\u001b[1;34m'PUT'\u001b[0m\u001b[1;33m,\u001b[0m \u001b[0murl\u001b[0m\u001b[1;33m,\u001b[0m \u001b[0mpayload\u001b[0m\u001b[1;33m,\u001b[0m \u001b[0mkwargs\u001b[0m\u001b[1;33m)\u001b[0m\u001b[1;33m\u001b[0m\u001b[1;33m\u001b[0m\u001b[0m\n\u001b[0m\u001b[0;32m    191\u001b[0m \u001b[1;33m\u001b[0m\u001b[0m\n\u001b[0;32m    192\u001b[0m     \u001b[1;32mdef\u001b[0m \u001b[0mnext\u001b[0m\u001b[1;33m(\u001b[0m\u001b[0mself\u001b[0m\u001b[1;33m,\u001b[0m \u001b[0mresult\u001b[0m\u001b[1;33m)\u001b[0m\u001b[1;33m:\u001b[0m\u001b[1;33m\u001b[0m\u001b[1;33m\u001b[0m\u001b[0m\n",
      "\u001b[1;32mC:/Users/justi/Documents/coding_projects/flamio\\spotipy_master\\spotipy\\client.py\u001b[0m in \u001b[0;36m_internal_call\u001b[1;34m(self, method, url, payload, params)\u001b[0m\n\u001b[0;32m    124\u001b[0m                 raise SpotifyException(r.status_code,\n\u001b[0;32m    125\u001b[0m                     \u001b[1;33m-\u001b[0m\u001b[1;36m1\u001b[0m\u001b[1;33m,\u001b[0m \u001b[1;34m'%s:\\n %s'\u001b[0m \u001b[1;33m%\u001b[0m \u001b[1;33m(\u001b[0m\u001b[0mr\u001b[0m\u001b[1;33m.\u001b[0m\u001b[0murl\u001b[0m\u001b[1;33m,\u001b[0m \u001b[0mr\u001b[0m\u001b[1;33m.\u001b[0m\u001b[0mjson\u001b[0m\u001b[1;33m(\u001b[0m\u001b[1;33m)\u001b[0m\u001b[1;33m[\u001b[0m\u001b[1;34m'error'\u001b[0m\u001b[1;33m]\u001b[0m\u001b[1;33m[\u001b[0m\u001b[1;34m'message'\u001b[0m\u001b[1;33m]\u001b[0m\u001b[1;33m)\u001b[0m\u001b[1;33m,\u001b[0m\u001b[1;33m\u001b[0m\u001b[1;33m\u001b[0m\u001b[0m\n\u001b[1;32m--> 126\u001b[1;33m                     headers=r.headers)\n\u001b[0m\u001b[0;32m    127\u001b[0m             \u001b[1;32melse\u001b[0m\u001b[1;33m:\u001b[0m\u001b[1;33m\u001b[0m\u001b[1;33m\u001b[0m\u001b[0m\n\u001b[0;32m    128\u001b[0m                 raise SpotifyException(r.status_code,\n",
      "\u001b[1;31mSpotifyException\u001b[0m: http status: 404, code:-1 - https://api.spotify.com/v1/me/player/seek?position_ms=0:\n Player command failed: No active device found"
     ]
    }
   ],
   "source": [
    "#Maria - 1/2\n",
    "song_id = '40vv9Zbi59BKJd9joX2c5U'\n",
    "reps=[2]\n",
    "start=0\n",
    "times=[147.5-start]\n",
    "loop_reps = 1\n",
    "positions = ['0:{}'.format(start)]\n",
    "play(sp, song_id, reps, times, loop_reps, positions)"
   ]
  },
  {
   "cell_type": "code",
   "execution_count": 42,
   "metadata": {},
   "outputs": [],
   "source": [
    "#Toosie Slide - Solo\n",
    "song_id = '127QTOFJsJQp5LbJbu3A1y'\n",
    "reps=[1]\n",
    "start=142.5\n",
    "times=[160-start]\n",
    "loop_reps = 1\n",
    "positions = ['0:{}'.format(start)]\n",
    "play(sp, song_id, reps, times, loop_reps, positions)"
   ]
  },
  {
   "cell_type": "code",
   "execution_count": 43,
   "metadata": {},
   "outputs": [
    {
     "name": "stdout",
     "output_type": "stream",
     "text": [
      "error\n",
      "refreshing token\n"
     ]
    }
   ],
   "source": [
    "#Parallel - Intro\n",
    "song_id = '31q89dvpCInlYcQ0Q2u1HC'\n",
    "reps=[1]\n",
    "start=0\n",
    "times=[36.5-start]\n",
    "loop_reps = 1\n",
    "positions = ['0:{}'.format(start)]\n",
    "play(sp, song_id, reps, times, loop_reps, positions)"
   ]
  },
  {
   "cell_type": "code",
   "execution_count": 44,
   "metadata": {},
   "outputs": [
    {
     "name": "stdout",
     "output_type": "stream",
     "text": [
      "error\n",
      "refreshing token\n"
     ]
    }
   ],
   "source": [
    "#Parallel - Intro\n",
    "song_id = '31q89dvpCInlYcQ0Q2u1HC'\n",
    "reps=[3]\n",
    "start=0\n",
    "times=[18.2-start]\n",
    "loop_reps = 1\n",
    "positions = ['0:{}'.format(start)]\n",
    "play(sp, song_id, reps, times, loop_reps, positions)"
   ]
  },
  {
   "cell_type": "code",
   "execution_count": 36,
   "metadata": {},
   "outputs": [],
   "source": [
    "# hot tub TIME Machine - outro\n",
    "song_id = '3uqOR8ycR9oZJoTEPXSUvy'\n",
    "reps=[8]\n",
    "start=5.7\n",
    "times=[11.5]\n",
    "loop_reps = 1\n",
    "positions = ['3:{}'.format(start)]\n",
    "play(sp, song_id, reps, times, loop_reps, positions)"
   ]
  },
  {
   "cell_type": "code",
   "execution_count": 37,
   "metadata": {},
   "outputs": [],
   "source": [
    "# Handheld GPS - Intro\n",
    "song_id = '677ai1ZuIvkr13W5vSR9wn'\n",
    "reps=[3]\n",
    "times=[7.3]\n",
    "loop_reps = 1\n",
    "positions = ['0:00']\n",
    "play(sp, song_id, reps, times, loop_reps, positions)"
   ]
  },
  {
   "cell_type": "code",
   "execution_count": 40,
   "metadata": {},
   "outputs": [],
   "source": [
    "# Sweet Love - Intro Beat\n",
    "song_id = '0FWUGdK2Y98znFyKsSuhUE'\n",
    "reps=[2,1]\n",
    "times=[2.33,4.868]\n",
    "loop_reps = 4\n",
    "positions = ['0:10.7','0:10.7']\n",
    "play(sp, song_id, reps, times, loop_reps, positions)"
   ]
  },
  {
   "cell_type": "code",
   "execution_count": 28,
   "metadata": {},
   "outputs": [],
   "source": [
    "sp.pause_playback()"
   ]
  },
  {
   "cell_type": "code",
   "execution_count": 101,
   "metadata": {},
   "outputs": [],
   "source": [
    "sp.start_playback(uris=['https://open.spotify.com/track/0FWUGdK2Y98znFyKsSuhUE'])\n",
    "reps=[2,1]\n",
    "numLoops = len(reps)\n",
    "times=[2.33,4.868]\n",
    "loop_reps = 2\n",
    "positions = ['0:10.7','0:10.7']\n",
    "# for \"loop_reps\" times, repeat the entire list of loop positions\n",
    "for i in range(loop_reps):\n",
    "    # for each subloop in the list of loops, repeat \"r\" times, the subloop\n",
    "    for k, (r,time,position) in enumerate(zip(reps,times,positions)):\n",
    "        # convert digital time into number of miliseconds\n",
    "        ms = time_to_ms(position)\n",
    "        for j in range(r):\n",
    "            if ms or i or j: # to keep from unessesary seeking back to the beginning of the song\n",
    "                sp.seek_track(ms)\n",
    "            if (i < loop_reps - 1) or (j < r - 1) or (k < numLoops - 1): # to keep from unessesary sleeping at the end of the entire loop\n",
    "                t.sleep(time)"
   ]
  },
  {
   "cell_type": "code",
   "execution_count": 117,
   "metadata": {},
   "outputs": [],
   "source": [
    "sp.pause_playback()"
   ]
  },
  {
   "cell_type": "code",
   "execution_count": 102,
   "metadata": {},
   "outputs": [],
   "source": [
    "sp.start_playback(uris=['https://open.spotify.com/track/31q89dvpCInlYcQ0Q2u1HC'])\n",
    "reps=[2]\n",
    "numLoops = len(reps)\n",
    "times=[36.63]\n",
    "loop_reps = 2\n",
    "positions = ['0:0']\n",
    "# for \"loop_reps\" times, repeat the entire list of loop positions\n",
    "for i in range(loop_reps):\n",
    "    # for each subloop in the list of loops, repeat \"r\" times, the subloop\n",
    "    for k, (r,time,position) in enumerate(zip(reps,times,positions)):\n",
    "        # convert digital time into number of miliseconds\n",
    "        ms = time_to_ms(position)\n",
    "        for j in range(r):\n",
    "            if ms or i or j: # to keep from unessesary seeking back to the beginning of the song\n",
    "                sp.seek_track(ms)\n",
    "            if (i < loop_reps - 1) or (j < r - 1) or (k < numLoops - 1): # to keep from unessesary sleeping at the end of the entire loop\n",
    "                t.sleep(time)"
   ]
  },
  {
   "cell_type": "code",
   "execution_count": 9,
   "metadata": {},
   "outputs": [],
   "source": [
    "song_id = '31q89dvpCInlYcQ0Q2u1HC'\n",
    "reps=[2]\n",
    "times=[36.63]\n",
    "loop_reps = 1\n",
    "positions = ['0:0']\n",
    "play(sp, song_id, reps, times, loop_reps, positions)"
   ]
  },
  {
   "cell_type": "code",
   "execution_count": 76,
   "metadata": {},
   "outputs": [],
   "source": [
    "sp.pause_playback()"
   ]
  },
  {
   "cell_type": "code",
   "execution_count": 30,
   "metadata": {},
   "outputs": [
    {
     "data": {
      "text/plain": [
       "{'devices': [{'id': '31bbd5464fbf4ab1d1f72b009469a1ded25c7a6e',\n",
       "   'is_active': False,\n",
       "   'is_private_session': False,\n",
       "   'is_restricted': False,\n",
       "   'name': 'Marantz NR1607',\n",
       "   'type': 'AVR',\n",
       "   'volume_percent': 50},\n",
       "  {'id': 'aae810e405f9871d14f850923791e87d09417f58',\n",
       "   'is_active': True,\n",
       "   'is_private_session': False,\n",
       "   'is_restricted': False,\n",
       "   'name': 'Justin’s iPad (2)',\n",
       "   'type': 'Tablet',\n",
       "   'volume_percent': 100},\n",
       "  {'id': 'b7b9fb981aaaff91ef1fa0792da30d357c287127',\n",
       "   'is_active': False,\n",
       "   'is_private_session': False,\n",
       "   'is_restricted': False,\n",
       "   'name': 'SoundTouch Amp Outside',\n",
       "   'type': 'Speaker',\n",
       "   'volume_percent': 0},\n",
       "  {'id': 'cecfbc1366a26790c524e715b465c36ba06c8c96',\n",
       "   'is_active': False,\n",
       "   'is_private_session': False,\n",
       "   'is_restricted': False,\n",
       "   'name': \"Justin's Echo\",\n",
       "   'type': 'Speaker',\n",
       "   'volume_percent': 15},\n",
       "  {'id': 'd40c5d4ac48f40c28d2dacdd9a8bfdfc97871832',\n",
       "   'is_active': False,\n",
       "   'is_private_session': False,\n",
       "   'is_restricted': False,\n",
       "   'name': 'DESKTOP-EUEBIVK',\n",
       "   'type': 'Computer',\n",
       "   'volume_percent': 100}]}"
      ]
     },
     "execution_count": 30,
     "metadata": {},
     "output_type": "execute_result"
    }
   ],
   "source": [
    "sp.devices()"
   ]
  },
  {
   "cell_type": "code",
   "execution_count": null,
   "metadata": {},
   "outputs": [],
   "source": []
  }
 ],
 "metadata": {
  "kernelspec": {
   "display_name": "Python 3",
   "language": "python",
   "name": "python3"
  },
  "language_info": {
   "codemirror_mode": {
    "name": "ipython",
    "version": 3
   },
   "file_extension": ".py",
   "mimetype": "text/x-python",
   "name": "python",
   "nbconvert_exporter": "python",
   "pygments_lexer": "ipython3",
   "version": "3.7.6"
  }
 },
 "nbformat": 4,
 "nbformat_minor": 4
}
