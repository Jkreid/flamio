{
 "cells": [
  {
   "cell_type": "code",
   "execution_count": 1,
   "metadata": {},
   "outputs": [],
   "source": [
    "import sys\n",
    "sys.path.insert(1,'C:/Users/justi/Documents/public_repos/flamio/')\n",
    "import spotipy_master.spotipy as spotipy\n",
    "import flamio\n",
    "import client"
   ]
  },
  {
   "cell_type": "code",
   "execution_count": 2,
   "metadata": {},
   "outputs": [],
   "source": [
    "flamio.new_user_and_service('jr','spotify','12125880630')"
   ]
  },
  {
   "cell_type": "code",
   "execution_count": 2,
   "metadata": {},
   "outputs": [
    {
     "data": {
      "text/plain": [
       "'BQDLpiCcC6YY6daf7UVpeea2adbaVhs0LgxWHaoGpWA-T9vriTn-lxwRyvjwWAyjXW2PBuqX_oz0QQ6AP8LMVo_uIhXW6Y74D4WHE3JpW0hR7NS6G5CHRsxNrNlxgli0rZEfnjEfU7pCl2KqVJk72BGk7oSSCEk'"
      ]
     },
     "execution_count": 2,
     "metadata": {},
     "output_type": "execute_result"
    }
   ],
   "source": [
    "flamio.get_user('jr','spotify')['token']"
   ]
  },
  {
   "cell_type": "code",
   "execution_count": 3,
   "metadata": {},
   "outputs": [],
   "source": [
    "token = flamio.get_user('jr','spotify')['token']"
   ]
  },
  {
   "cell_type": "code",
   "execution_count": 4,
   "metadata": {},
   "outputs": [
    {
     "data": {
      "text/plain": [
       "{'__base__': {},\n",
       " 'jr': {'name': 'jr',\n",
       "  'spotify': {'flamio_name': 'jr',\n",
       "   'service': 'spotify',\n",
       "   'pauseKill': True,\n",
       "   'login_time': 1575338250.5303261,\n",
       "   'refresh': 3600,\n",
       "   'username': '12125880630',\n",
       "   'token': 'BQDLpiCcC6YY6daf7UVpeea2adbaVhs0LgxWHaoGpWA-T9vriTn-lxwRyvjwWAyjXW2PBuqX_oz0QQ6AP8LMVo_uIhXW6Y74D4WHE3JpW0hR7NS6G5CHRsxNrNlxgli0rZEfnjEfU7pCl2KqVJk72BGk7oSSCEk',\n",
       "   'loop': {},\n",
       "   'cut': {},\n",
       "   'skip': {},\n",
       "   'mix': {}},\n",
       "  'soundcloud': {},\n",
       "  'apple_music': {}}}"
      ]
     },
     "execution_count": 4,
     "metadata": {},
     "output_type": "execute_result"
    }
   ],
   "source": [
    "flamio.get_users()"
   ]
  },
  {
   "cell_type": "code",
   "execution_count": null,
   "metadata": {},
   "outputs": [],
   "source": [
    "spotipy.Spotify(auth=token).current_playback()['item']['id']"
   ]
  },
  {
   "cell_type": "code",
   "execution_count": 9,
   "metadata": {},
   "outputs": [],
   "source": [
    "sp = spotipy.Spotify(auth=token)"
   ]
  },
  {
   "cell_type": "code",
   "execution_count": 16,
   "metadata": {},
   "outputs": [],
   "source": [
    "sp.pause_playback()"
   ]
  },
  {
   "cell_type": "code",
   "execution_count": 14,
   "metadata": {},
   "outputs": [],
   "source": [
    "token=client.get_token(flamio.get_user('jr','spotify'))"
   ]
  },
  {
   "cell_type": "code",
   "execution_count": 3,
   "metadata": {},
   "outputs": [
    {
     "data": {
      "text/plain": [
       "{'display_name': 'Justin Reid',\n",
       " 'external_urls': {'spotify': 'https://open.spotify.com/user/12125880630'},\n",
       " 'followers': {'href': None, 'total': 26},\n",
       " 'href': 'https://api.spotify.com/v1/users/12125880630',\n",
       " 'id': '12125880630',\n",
       " 'images': [{'height': None,\n",
       "   'url': 'https://scontent.xx.fbcdn.net/v/t31.0-1/p320x320/12239336_957355900997348_5331836433461989709_o.jpg?_nc_cat=108&_nc_ohc=82nQGjmBkNEAX8_wJbk&_nc_ht=scontent.xx&_nc_tp=1002&oh=4be7ee3211c2f5b5f30c5d9b2cb5d543&oe=5ED19737',\n",
       "   'width': None}],\n",
       " 'type': 'user',\n",
       " 'uri': 'spotify:user:12125880630'}"
      ]
     },
     "execution_count": 3,
     "metadata": {},
     "output_type": "execute_result"
    }
   ],
   "source": [
    "client.get_player(flamio.get_user('jr','spotify')).me()"
   ]
  },
  {
   "cell_type": "code",
   "execution_count": 8,
   "metadata": {},
   "outputs": [],
   "source": [
    "client.get_player(flamio.get_user('jr','spotify')).start_playback()"
   ]
  },
  {
   "cell_type": "code",
   "execution_count": 7,
   "metadata": {},
   "outputs": [],
   "source": [
    "client.get_player(flamio.get_user('jr','spotify')).pause_playback()"
   ]
  },
  {
   "cell_type": "code",
   "execution_count": 2,
   "metadata": {},
   "outputs": [],
   "source": [
    "import time as t"
   ]
  },
  {
   "cell_type": "code",
   "execution_count": 3,
   "metadata": {},
   "outputs": [],
   "source": [
    "def time_to_ms(time):\n",
    "    \"\"\" '0:00' to miliseconds \"\"\"\n",
    "    minute,seconds = map(float,time.split(':'))\n",
    "    return int(1000*(minute*60 + seconds))"
   ]
  },
  {
   "cell_type": "code",
   "execution_count": 4,
   "metadata": {},
   "outputs": [],
   "source": [
    "def play(sp, song_id, reps, times, loop_reps, positions, username='jr', service='spotify'):\n",
    "    numLoops = len(reps)\n",
    "    try:\n",
    "        sp.start_playback(uris=['https://open.spotify.com/track/{}'.format(song_id)])\n",
    "    except spotipy.SpotifyException:\n",
    "        sp = client.get_player(flamio.get_user(username,service))\n",
    "        sp.start_playback(uris=['https://open.spotify.com/track/{}'.format(song_id)])\n",
    "    # for \"loop_reps\" times, repeat the entire list of loop positions\n",
    "    for i in range(loop_reps):\n",
    "        # for each subloop in the list of loops, repeat \"r\" times, the subloop\n",
    "        for k, (r,time,position) in enumerate(zip(reps,times,positions)):\n",
    "            # convert digital time into number of miliseconds\n",
    "            ms = time_to_ms(position)\n",
    "            for j in range(r):\n",
    "                if ms or i or j: # to keep from unessesary seeking back to the beginning of the song\n",
    "                    sp.seek_track(ms)\n",
    "                if (i < loop_reps - 1) or (j < r - 1) or (k < numLoops - 1): # to keep from unessesary sleeping at the end of the entire loop\n",
    "                    t.sleep(time)"
   ]
  },
  {
   "cell_type": "code",
   "execution_count": 5,
   "metadata": {},
   "outputs": [],
   "source": [
    "sp = client.get_player(flamio.get_user('jr','spotify'))"
   ]
  },
  {
   "cell_type": "code",
   "execution_count": 6,
   "metadata": {},
   "outputs": [
    {
     "data": {
      "text/plain": [
       "'31q89dvpCInlYcQ0Q2u1HC'"
      ]
     },
     "execution_count": 6,
     "metadata": {},
     "output_type": "execute_result"
    }
   ],
   "source": [
    "sp.current_playback()['item']['id']"
   ]
  },
  {
   "cell_type": "code",
   "execution_count": 7,
   "metadata": {},
   "outputs": [],
   "source": [
    "song_id = '31q89dvpCInlYcQ0Q2u1HC'\n",
    "reps=[1]\n",
    "start=0\n",
    "times=[36.5-start]\n",
    "loop_reps = 1\n",
    "positions = ['0:{}'.format(start)]\n",
    "play(sp, song_id, reps, times, loop_reps, positions)"
   ]
  },
  {
   "cell_type": "code",
   "execution_count": 11,
   "metadata": {},
   "outputs": [],
   "source": [
    "song_id = '31q89dvpCInlYcQ0Q2u1HC'\n",
    "reps=[3]\n",
    "start=0\n",
    "times=[18.2-start]\n",
    "loop_reps = 1\n",
    "positions = ['0:{}'.format(start)]\n",
    "play(sp, song_id, reps, times, loop_reps, positions)"
   ]
  },
  {
   "cell_type": "code",
   "execution_count": 15,
   "metadata": {},
   "outputs": [],
   "source": [
    "song_id = '3uqOR8ycR9oZJoTEPXSUvy'\n",
    "reps=[8]\n",
    "start=5.7\n",
    "times=[11.5]\n",
    "loop_reps = 1\n",
    "positions = ['3:{}'.format(start)]\n",
    "play(sp, song_id, reps, times, loop_reps, positions)"
   ]
  },
  {
   "cell_type": "code",
   "execution_count": 28,
   "metadata": {},
   "outputs": [],
   "source": [
    "song_id = '677ai1ZuIvkr13W5vSR9wn'\n",
    "reps=[3]\n",
    "times=[7.3]\n",
    "loop_reps = 1\n",
    "positions = ['0:00']\n",
    "play(sp, song_id, reps, times, loop_reps, positions)"
   ]
  },
  {
   "cell_type": "code",
   "execution_count": 15,
   "metadata": {},
   "outputs": [],
   "source": [
    "song_id = '0FWUGdK2Y98znFyKsSuhUE'\n",
    "reps=[2,1]\n",
    "times=[2.33,4.868]\n",
    "loop_reps = 4\n",
    "positions = ['0:10.7','0:10.7']\n",
    "play(sp, song_id, reps, times, loop_reps, positions)"
   ]
  },
  {
   "cell_type": "code",
   "execution_count": 14,
   "metadata": {},
   "outputs": [],
   "source": [
    "sp.pause_playback()"
   ]
  },
  {
   "cell_type": "code",
   "execution_count": 101,
   "metadata": {},
   "outputs": [],
   "source": [
    "sp.start_playback(uris=['https://open.spotify.com/track/0FWUGdK2Y98znFyKsSuhUE'])\n",
    "reps=[2,1]\n",
    "numLoops = len(reps)\n",
    "times=[2.33,4.868]\n",
    "loop_reps = 2\n",
    "positions = ['0:10.7','0:10.7']\n",
    "# for \"loop_reps\" times, repeat the entire list of loop positions\n",
    "for i in range(loop_reps):\n",
    "    # for each subloop in the list of loops, repeat \"r\" times, the subloop\n",
    "    for k, (r,time,position) in enumerate(zip(reps,times,positions)):\n",
    "        # convert digital time into number of miliseconds\n",
    "        ms = time_to_ms(position)\n",
    "        for j in range(r):\n",
    "            if ms or i or j: # to keep from unessesary seeking back to the beginning of the song\n",
    "                sp.seek_track(ms)\n",
    "            if (i < loop_reps - 1) or (j < r - 1) or (k < numLoops - 1): # to keep from unessesary sleeping at the end of the entire loop\n",
    "                t.sleep(time)"
   ]
  },
  {
   "cell_type": "code",
   "execution_count": 117,
   "metadata": {},
   "outputs": [],
   "source": [
    "sp.pause_playback()"
   ]
  },
  {
   "cell_type": "code",
   "execution_count": 102,
   "metadata": {},
   "outputs": [],
   "source": [
    "sp.start_playback(uris=['https://open.spotify.com/track/31q89dvpCInlYcQ0Q2u1HC'])\n",
    "reps=[2]\n",
    "numLoops = len(reps)\n",
    "times=[36.63]\n",
    "loop_reps = 2\n",
    "positions = ['0:0']\n",
    "# for \"loop_reps\" times, repeat the entire list of loop positions\n",
    "for i in range(loop_reps):\n",
    "    # for each subloop in the list of loops, repeat \"r\" times, the subloop\n",
    "    for k, (r,time,position) in enumerate(zip(reps,times,positions)):\n",
    "        # convert digital time into number of miliseconds\n",
    "        ms = time_to_ms(position)\n",
    "        for j in range(r):\n",
    "            if ms or i or j: # to keep from unessesary seeking back to the beginning of the song\n",
    "                sp.seek_track(ms)\n",
    "            if (i < loop_reps - 1) or (j < r - 1) or (k < numLoops - 1): # to keep from unessesary sleeping at the end of the entire loop\n",
    "                t.sleep(time)"
   ]
  },
  {
   "cell_type": "code",
   "execution_count": 9,
   "metadata": {},
   "outputs": [],
   "source": [
    "song_id = '31q89dvpCInlYcQ0Q2u1HC'\n",
    "reps=[2]\n",
    "times=[36.63]\n",
    "loop_reps = 1\n",
    "positions = ['0:0']\n",
    "play(sp, song_id, reps, times, loop_reps, positions)"
   ]
  },
  {
   "cell_type": "code",
   "execution_count": 76,
   "metadata": {},
   "outputs": [],
   "source": [
    "sp.pause_playback()"
   ]
  },
  {
   "cell_type": "code",
   "execution_count": 56,
   "metadata": {},
   "outputs": [
    {
     "data": {
      "text/plain": [
       "{'devices': [{'id': '31bbd5464fbf4ab1d1f72b009469a1ded25c7a6e',\n",
       "   'is_active': False,\n",
       "   'is_private_session': False,\n",
       "   'is_restricted': False,\n",
       "   'name': 'Marantz NR1607',\n",
       "   'type': 'AVR',\n",
       "   'volume_percent': 50},\n",
       "  {'id': '9a42c90fd2bd2b13cc19e55430a6c69c7565f2d1',\n",
       "   'is_active': False,\n",
       "   'is_private_session': False,\n",
       "   'is_restricted': False,\n",
       "   'name': 'Family Room - Main',\n",
       "   'type': 'Speaker',\n",
       "   'volume_percent': 76},\n",
       "  {'id': 'b7b9fb981aaaff91ef1fa0792da30d357c287127',\n",
       "   'is_active': False,\n",
       "   'is_private_session': False,\n",
       "   'is_restricted': False,\n",
       "   'name': 'SoundTouch Amp Outside',\n",
       "   'type': 'Speaker',\n",
       "   'volume_percent': 0},\n",
       "  {'id': 'cecfbc1366a26790c524e715b465c36ba06c8c96',\n",
       "   'is_active': False,\n",
       "   'is_private_session': False,\n",
       "   'is_restricted': False,\n",
       "   'name': \"Justin's Echo\",\n",
       "   'type': 'Speaker',\n",
       "   'volume_percent': 14},\n",
       "  {'id': 'd40c5d4ac48f40c28d2dacdd9a8bfdfc97871832',\n",
       "   'is_active': False,\n",
       "   'is_private_session': False,\n",
       "   'is_restricted': False,\n",
       "   'name': 'DESKTOP-EUEBIVK',\n",
       "   'type': 'Computer',\n",
       "   'volume_percent': 100}]}"
      ]
     },
     "execution_count": 56,
     "metadata": {},
     "output_type": "execute_result"
    }
   ],
   "source": [
    "sp.devices()"
   ]
  },
  {
   "cell_type": "code",
   "execution_count": null,
   "metadata": {},
   "outputs": [],
   "source": []
  }
 ],
 "metadata": {
  "kernelspec": {
   "display_name": "Python 3",
   "language": "python",
   "name": "python3"
  },
  "language_info": {
   "codemirror_mode": {
    "name": "ipython",
    "version": 3
   },
   "file_extension": ".py",
   "mimetype": "text/x-python",
   "name": "python",
   "nbconvert_exporter": "python",
   "pygments_lexer": "ipython3",
   "version": "3.7.3"
  }
 },
 "nbformat": 4,
 "nbformat_minor": 4
}
