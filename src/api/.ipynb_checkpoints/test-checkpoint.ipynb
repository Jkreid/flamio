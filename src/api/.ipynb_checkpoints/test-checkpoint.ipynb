{
 "cells": [
  {
   "cell_type": "code",
   "execution_count": 3,
   "metadata": {},
   "outputs": [],
   "source": [
    "import sys\n",
    "sys.path.insert(1,'C:/Users/justi/Documents/public_repos/flamio/')\n",
    "import spotipy_master.spotipy as spotipy\n",
    "import flamio\n",
    "import client"
   ]
  },
  {
   "cell_type": "code",
   "execution_count": 2,
   "metadata": {},
   "outputs": [],
   "source": [
    "flamio.new_user_and_service('jr','spotify','12125880630')"
   ]
  },
  {
   "cell_type": "code",
   "execution_count": 2,
   "metadata": {},
   "outputs": [
    {
     "data": {
      "text/plain": [
       "'BQDLpiCcC6YY6daf7UVpeea2adbaVhs0LgxWHaoGpWA-T9vriTn-lxwRyvjwWAyjXW2PBuqX_oz0QQ6AP8LMVo_uIhXW6Y74D4WHE3JpW0hR7NS6G5CHRsxNrNlxgli0rZEfnjEfU7pCl2KqVJk72BGk7oSSCEk'"
      ]
     },
     "execution_count": 2,
     "metadata": {},
     "output_type": "execute_result"
    }
   ],
   "source": [
    "flamio.get_user('jr','spotify')['token']"
   ]
  },
  {
   "cell_type": "code",
   "execution_count": 3,
   "metadata": {},
   "outputs": [],
   "source": [
    "token = flamio.get_user('jr','spotify')['token']"
   ]
  },
  {
   "cell_type": "code",
   "execution_count": 4,
   "metadata": {},
   "outputs": [
    {
     "data": {
      "text/plain": [
       "{'__base__': {},\n",
       " 'jr': {'name': 'jr',\n",
       "  'spotify': {'flamio_name': 'jr',\n",
       "   'service': 'spotify',\n",
       "   'pauseKill': True,\n",
       "   'login_time': 1575338250.5303261,\n",
       "   'refresh': 3600,\n",
       "   'username': '12125880630',\n",
       "   'token': 'BQDLpiCcC6YY6daf7UVpeea2adbaVhs0LgxWHaoGpWA-T9vriTn-lxwRyvjwWAyjXW2PBuqX_oz0QQ6AP8LMVo_uIhXW6Y74D4WHE3JpW0hR7NS6G5CHRsxNrNlxgli0rZEfnjEfU7pCl2KqVJk72BGk7oSSCEk',\n",
       "   'loop': {},\n",
       "   'cut': {},\n",
       "   'skip': {},\n",
       "   'mix': {}},\n",
       "  'soundcloud': {},\n",
       "  'apple_music': {}}}"
      ]
     },
     "execution_count": 4,
     "metadata": {},
     "output_type": "execute_result"
    }
   ],
   "source": [
    "flamio.get_users()"
   ]
  },
  {
   "cell_type": "code",
   "execution_count": 5,
   "metadata": {},
   "outputs": [
    {
     "ename": "SpotifyException",
     "evalue": "http status: 401, code:-1 - https://api.spotify.com/v1/me/player:\n The access token expired",
     "output_type": "error",
     "traceback": [
      "\u001b[1;31m---------------------------------------------------------------------------\u001b[0m",
      "\u001b[1;31mHTTPError\u001b[0m                                 Traceback (most recent call last)",
      "\u001b[1;32mC:/Users/justi/Documents/public_repos/flamio\\spotipy_master\\spotipy\\client.py\u001b[0m in \u001b[0;36m_internal_call\u001b[1;34m(self, method, url, payload, params)\u001b[0m\n\u001b[0;32m    120\u001b[0m         \u001b[1;32mtry\u001b[0m\u001b[1;33m:\u001b[0m\u001b[1;33m\u001b[0m\u001b[1;33m\u001b[0m\u001b[0m\n\u001b[1;32m--> 121\u001b[1;33m             \u001b[0mr\u001b[0m\u001b[1;33m.\u001b[0m\u001b[0mraise_for_status\u001b[0m\u001b[1;33m(\u001b[0m\u001b[1;33m)\u001b[0m\u001b[1;33m\u001b[0m\u001b[1;33m\u001b[0m\u001b[0m\n\u001b[0m\u001b[0;32m    122\u001b[0m         \u001b[1;32mexcept\u001b[0m\u001b[1;33m:\u001b[0m\u001b[1;33m\u001b[0m\u001b[1;33m\u001b[0m\u001b[0m\n",
      "\u001b[1;32m~\\Anaconda3\\lib\\site-packages\\requests\\models.py\u001b[0m in \u001b[0;36mraise_for_status\u001b[1;34m(self)\u001b[0m\n\u001b[0;32m    939\u001b[0m         \u001b[1;32mif\u001b[0m \u001b[0mhttp_error_msg\u001b[0m\u001b[1;33m:\u001b[0m\u001b[1;33m\u001b[0m\u001b[1;33m\u001b[0m\u001b[0m\n\u001b[1;32m--> 940\u001b[1;33m             \u001b[1;32mraise\u001b[0m \u001b[0mHTTPError\u001b[0m\u001b[1;33m(\u001b[0m\u001b[0mhttp_error_msg\u001b[0m\u001b[1;33m,\u001b[0m \u001b[0mresponse\u001b[0m\u001b[1;33m=\u001b[0m\u001b[0mself\u001b[0m\u001b[1;33m)\u001b[0m\u001b[1;33m\u001b[0m\u001b[1;33m\u001b[0m\u001b[0m\n\u001b[0m\u001b[0;32m    941\u001b[0m \u001b[1;33m\u001b[0m\u001b[0m\n",
      "\u001b[1;31mHTTPError\u001b[0m: 401 Client Error: Unauthorized for url: https://api.spotify.com/v1/me/player",
      "\nDuring handling of the above exception, another exception occurred:\n",
      "\u001b[1;31mSpotifyException\u001b[0m                          Traceback (most recent call last)",
      "\u001b[1;32m<ipython-input-5-49340253e27c>\u001b[0m in \u001b[0;36m<module>\u001b[1;34m\u001b[0m\n\u001b[1;32m----> 1\u001b[1;33m \u001b[0mspotipy\u001b[0m\u001b[1;33m.\u001b[0m\u001b[0mSpotify\u001b[0m\u001b[1;33m(\u001b[0m\u001b[0mauth\u001b[0m\u001b[1;33m=\u001b[0m\u001b[0mtoken\u001b[0m\u001b[1;33m)\u001b[0m\u001b[1;33m.\u001b[0m\u001b[0mcurrent_playback\u001b[0m\u001b[1;33m(\u001b[0m\u001b[1;33m)\u001b[0m\u001b[1;33m[\u001b[0m\u001b[1;34m'item'\u001b[0m\u001b[1;33m]\u001b[0m\u001b[1;33m[\u001b[0m\u001b[1;34m'id'\u001b[0m\u001b[1;33m]\u001b[0m\u001b[1;33m\u001b[0m\u001b[1;33m\u001b[0m\u001b[0m\n\u001b[0m",
      "\u001b[1;32mC:/Users/justi/Documents/public_repos/flamio\\spotipy_master\\spotipy\\client.py\u001b[0m in \u001b[0;36mcurrent_playback\u001b[1;34m(self, market)\u001b[0m\n\u001b[0;32m    889\u001b[0m                 \u001b[1;33m-\u001b[0m \u001b[0mmarket\u001b[0m \u001b[1;33m-\u001b[0m \u001b[0man\u001b[0m \u001b[0mISO\u001b[0m \u001b[1;36m3166\u001b[0m\u001b[1;33m-\u001b[0m\u001b[1;36m1\u001b[0m \u001b[0malpha\u001b[0m\u001b[1;33m-\u001b[0m\u001b[1;36m2\u001b[0m \u001b[0mcountry\u001b[0m \u001b[0mcode\u001b[0m\u001b[1;33m.\u001b[0m\u001b[1;33m\u001b[0m\u001b[1;33m\u001b[0m\u001b[0m\n\u001b[0;32m    890\u001b[0m         '''\n\u001b[1;32m--> 891\u001b[1;33m         \u001b[1;32mreturn\u001b[0m \u001b[0mself\u001b[0m\u001b[1;33m.\u001b[0m\u001b[0m_get\u001b[0m\u001b[1;33m(\u001b[0m\u001b[1;34m\"me/player\"\u001b[0m\u001b[1;33m,\u001b[0m \u001b[0mmarket\u001b[0m \u001b[1;33m=\u001b[0m \u001b[0mmarket\u001b[0m\u001b[1;33m)\u001b[0m\u001b[1;33m\u001b[0m\u001b[1;33m\u001b[0m\u001b[0m\n\u001b[0m\u001b[0;32m    892\u001b[0m \u001b[1;33m\u001b[0m\u001b[0m\n\u001b[0;32m    893\u001b[0m     \u001b[1;32mdef\u001b[0m \u001b[0mcurrently_playing\u001b[0m\u001b[1;33m(\u001b[0m\u001b[0mself\u001b[0m\u001b[1;33m,\u001b[0m \u001b[0mmarket\u001b[0m \u001b[1;33m=\u001b[0m \u001b[1;32mNone\u001b[0m\u001b[1;33m)\u001b[0m\u001b[1;33m:\u001b[0m\u001b[1;33m\u001b[0m\u001b[1;33m\u001b[0m\u001b[0m\n",
      "\u001b[1;32mC:/Users/justi/Documents/public_repos/flamio\\spotipy_master\\spotipy\\client.py\u001b[0m in \u001b[0;36m_get\u001b[1;34m(self, url, args, payload, **kwargs)\u001b[0m\n\u001b[0;32m    146\u001b[0m         \u001b[1;32mwhile\u001b[0m \u001b[0mretries\u001b[0m \u001b[1;33m>\u001b[0m \u001b[1;36m0\u001b[0m\u001b[1;33m:\u001b[0m\u001b[1;33m\u001b[0m\u001b[1;33m\u001b[0m\u001b[0m\n\u001b[0;32m    147\u001b[0m             \u001b[1;32mtry\u001b[0m\u001b[1;33m:\u001b[0m\u001b[1;33m\u001b[0m\u001b[1;33m\u001b[0m\u001b[0m\n\u001b[1;32m--> 148\u001b[1;33m                 \u001b[1;32mreturn\u001b[0m \u001b[0mself\u001b[0m\u001b[1;33m.\u001b[0m\u001b[0m_internal_call\u001b[0m\u001b[1;33m(\u001b[0m\u001b[1;34m'GET'\u001b[0m\u001b[1;33m,\u001b[0m \u001b[0murl\u001b[0m\u001b[1;33m,\u001b[0m \u001b[0mpayload\u001b[0m\u001b[1;33m,\u001b[0m \u001b[0mkwargs\u001b[0m\u001b[1;33m)\u001b[0m\u001b[1;33m\u001b[0m\u001b[1;33m\u001b[0m\u001b[0m\n\u001b[0m\u001b[0;32m    149\u001b[0m             \u001b[1;32mexcept\u001b[0m \u001b[0mSpotifyException\u001b[0m \u001b[1;32mas\u001b[0m \u001b[0me\u001b[0m\u001b[1;33m:\u001b[0m\u001b[1;33m\u001b[0m\u001b[1;33m\u001b[0m\u001b[0m\n\u001b[0;32m    150\u001b[0m                 \u001b[0mretries\u001b[0m \u001b[1;33m-=\u001b[0m \u001b[1;36m1\u001b[0m\u001b[1;33m\u001b[0m\u001b[1;33m\u001b[0m\u001b[0m\n",
      "\u001b[1;32mC:/Users/justi/Documents/public_repos/flamio\\spotipy_master\\spotipy\\client.py\u001b[0m in \u001b[0;36m_internal_call\u001b[1;34m(self, method, url, payload, params)\u001b[0m\n\u001b[0;32m    124\u001b[0m                 raise SpotifyException(r.status_code,\n\u001b[0;32m    125\u001b[0m                     \u001b[1;33m-\u001b[0m\u001b[1;36m1\u001b[0m\u001b[1;33m,\u001b[0m \u001b[1;34m'%s:\\n %s'\u001b[0m \u001b[1;33m%\u001b[0m \u001b[1;33m(\u001b[0m\u001b[0mr\u001b[0m\u001b[1;33m.\u001b[0m\u001b[0murl\u001b[0m\u001b[1;33m,\u001b[0m \u001b[0mr\u001b[0m\u001b[1;33m.\u001b[0m\u001b[0mjson\u001b[0m\u001b[1;33m(\u001b[0m\u001b[1;33m)\u001b[0m\u001b[1;33m[\u001b[0m\u001b[1;34m'error'\u001b[0m\u001b[1;33m]\u001b[0m\u001b[1;33m[\u001b[0m\u001b[1;34m'message'\u001b[0m\u001b[1;33m]\u001b[0m\u001b[1;33m)\u001b[0m\u001b[1;33m,\u001b[0m\u001b[1;33m\u001b[0m\u001b[1;33m\u001b[0m\u001b[0m\n\u001b[1;32m--> 126\u001b[1;33m                     headers=r.headers)\n\u001b[0m\u001b[0;32m    127\u001b[0m             \u001b[1;32melse\u001b[0m\u001b[1;33m:\u001b[0m\u001b[1;33m\u001b[0m\u001b[1;33m\u001b[0m\u001b[0m\n\u001b[0;32m    128\u001b[0m                 raise SpotifyException(r.status_code,\n",
      "\u001b[1;31mSpotifyException\u001b[0m: http status: 401, code:-1 - https://api.spotify.com/v1/me/player:\n The access token expired"
     ]
    }
   ],
   "source": [
    "spotipy.Spotify(auth=token).current_playback()['item']['id']"
   ]
  },
  {
   "cell_type": "code",
   "execution_count": 9,
   "metadata": {},
   "outputs": [],
   "source": [
    "sp = spotipy.Spotify(auth=token)"
   ]
  },
  {
   "cell_type": "code",
   "execution_count": 16,
   "metadata": {},
   "outputs": [],
   "source": [
    "sp.pause_playback()"
   ]
  },
  {
   "cell_type": "code",
   "execution_count": 14,
   "metadata": {},
   "outputs": [],
   "source": [
    "token=client.get_token(flamio.get_user('jr','spotify'))"
   ]
  },
  {
   "cell_type": "code",
   "execution_count": 3,
   "metadata": {},
   "outputs": [
    {
     "data": {
      "text/plain": [
       "{'display_name': 'Justin Reid',\n",
       " 'external_urls': {'spotify': 'https://open.spotify.com/user/12125880630'},\n",
       " 'followers': {'href': None, 'total': 26},\n",
       " 'href': 'https://api.spotify.com/v1/users/12125880630',\n",
       " 'id': '12125880630',\n",
       " 'images': [{'height': None,\n",
       "   'url': 'https://scontent.xx.fbcdn.net/v/t31.0-1/p320x320/12239336_957355900997348_5331836433461989709_o.jpg?_nc_cat=108&_nc_ohc=82nQGjmBkNEAX8_wJbk&_nc_ht=scontent.xx&_nc_tp=1002&oh=4be7ee3211c2f5b5f30c5d9b2cb5d543&oe=5ED19737',\n",
       "   'width': None}],\n",
       " 'type': 'user',\n",
       " 'uri': 'spotify:user:12125880630'}"
      ]
     },
     "execution_count": 3,
     "metadata": {},
     "output_type": "execute_result"
    }
   ],
   "source": [
    "client.get_player(flamio.get_user('jr','spotify')).me()"
   ]
  },
  {
   "cell_type": "code",
   "execution_count": 8,
   "metadata": {},
   "outputs": [],
   "source": [
    "client.get_player(flamio.get_user('jr','spotify')).start_playback()"
   ]
  },
  {
   "cell_type": "code",
   "execution_count": 7,
   "metadata": {},
   "outputs": [],
   "source": [
    "client.get_player(flamio.get_user('jr','spotify')).pause_playback()"
   ]
  },
  {
   "cell_type": "code",
   "execution_count": 4,
   "metadata": {},
   "outputs": [],
   "source": [
    "import time as t"
   ]
  },
  {
   "cell_type": "code",
   "execution_count": 77,
   "metadata": {},
   "outputs": [],
   "source": [
    "sp = client.get_player(flamio.get_user('jr','spotify'))"
   ]
  },
  {
   "cell_type": "code",
   "execution_count": 57,
   "metadata": {},
   "outputs": [
    {
     "data": {
      "text/plain": [
       "'0FWUGdK2Y98znFyKsSuhUE'"
      ]
     },
     "execution_count": 57,
     "metadata": {},
     "output_type": "execute_result"
    }
   ],
   "source": [
    "sp.current_playback()['item']['id']"
   ]
  },
  {
   "cell_type": "code",
   "execution_count": 7,
   "metadata": {},
   "outputs": [],
   "source": [
    "def time_to_ms(time):\n",
    "    \"\"\" '0:00' to miliseconds \"\"\"\n",
    "    minute,seconds = map(float,time.split(':'))\n",
    "    return int(1000*(minute*60 + seconds))"
   ]
  },
  {
   "cell_type": "code",
   "execution_count": 101,
   "metadata": {},
   "outputs": [],
   "source": [
    "sp.start_playback(uris=['https://open.spotify.com/track/0FWUGdK2Y98znFyKsSuhUE'])\n",
    "reps=[2,1]\n",
    "numLoops = len(reps)\n",
    "times=[2.33,4.868]\n",
    "loop_reps = 2\n",
    "positions = ['0:10.7','0:10.7']\n",
    "# for \"loop_reps\" times, repeat the entire list of loop positions\n",
    "for i in range(loop_reps):\n",
    "    # for each subloop in the list of loops, repeat \"r\" times, the subloop\n",
    "    for k, (r,time,position) in enumerate(zip(reps,times,positions)):\n",
    "        # convert digital time into number of miliseconds\n",
    "        ms = time_to_ms(position)\n",
    "        for j in range(r):\n",
    "            if ms or i or j: # to keep from unessesary seeking back to the beginning of the song\n",
    "                sp.seek_track(ms)\n",
    "            if (i < loop_reps - 1) or (j < r - 1) or (k < numLoops - 1): # to keep from unessesary sleeping at the end of the entire loop\n",
    "                t.sleep(time)"
   ]
  },
  {
   "cell_type": "code",
   "execution_count": 80,
   "metadata": {},
   "outputs": [],
   "source": [
    "sp.pause_playback()"
   ]
  },
  {
   "cell_type": "code",
   "execution_count": 102,
   "metadata": {},
   "outputs": [],
   "source": [
    "sp.start_playback(uris=['https://open.spotify.com/track/31q89dvpCInlYcQ0Q2u1HC'])\n",
    "reps=[2]\n",
    "numLoops = len(reps)\n",
    "times=[36.63]\n",
    "loop_reps = 2\n",
    "positions = ['0:0']\n",
    "# for \"loop_reps\" times, repeat the entire list of loop positions\n",
    "for i in range(loop_reps):\n",
    "    # for each subloop in the list of loops, repeat \"r\" times, the subloop\n",
    "    for k, (r,time,position) in enumerate(zip(reps,times,positions)):\n",
    "        # convert digital time into number of miliseconds\n",
    "        ms = time_to_ms(position)\n",
    "        for j in range(r):\n",
    "            if ms or i or j: # to keep from unessesary seeking back to the beginning of the song\n",
    "                sp.seek_track(ms)\n",
    "            if (i < loop_reps - 1) or (j < r - 1) or (k < numLoops - 1): # to keep from unessesary sleeping at the end of the entire loop\n",
    "                t.sleep(time)"
   ]
  },
  {
   "cell_type": "code",
   "execution_count": null,
   "metadata": {},
   "outputs": [],
   "source": [
    "play(song_id, reps, times, loop_reps, positions)"
   ]
  },
  {
   "cell_type": "code",
   "execution_count": 103,
   "metadata": {},
   "outputs": [],
   "source": [
    "def play(song_id, reps, times, loop_reps, positions):\n",
    "    numLoops = len(reps)\n",
    "    # for \"loop_reps\" times, repeat the entire list of loop positions\n",
    "    for i in range(loop_reps):\n",
    "        # for each subloop in the list of loops, repeat \"r\" times, the subloop\n",
    "        for k, (r,time,position) in enumerate(zip(reps,times,positions)):\n",
    "            # convert digital time into number of miliseconds\n",
    "            ms = time_to_ms(position)\n",
    "            for j in range(r):\n",
    "                if ms or i or j: # to keep from unessesary seeking back to the beginning of the song\n",
    "                    sp.seek_track(ms)\n",
    "                if (i < loop_reps - 1) or (j < r - 1) or (k < numLoops - 1): # to keep from unessesary sleeping at the end of the entire loop\n",
    "                    t.sleep(time)"
   ]
  },
  {
   "cell_type": "markdown",
   "metadata": {},
   "source": [
    "to make/edit:\n",
    "start\n",
    "end\n",
    "reps\n",
    "\n",
    "to record:\n",
    "name\n",
    "song_id\n",
    "data_type (loop, skip, mix, pause, ect.)\n"
   ]
  },
  {
   "cell_type": "code",
   "execution_count": 76,
   "metadata": {},
   "outputs": [],
   "source": [
    "sp.pause_playback()"
   ]
  },
  {
   "cell_type": "code",
   "execution_count": 56,
   "metadata": {},
   "outputs": [
    {
     "data": {
      "text/plain": [
       "{'devices': [{'id': '31bbd5464fbf4ab1d1f72b009469a1ded25c7a6e',\n",
       "   'is_active': False,\n",
       "   'is_private_session': False,\n",
       "   'is_restricted': False,\n",
       "   'name': 'Marantz NR1607',\n",
       "   'type': 'AVR',\n",
       "   'volume_percent': 50},\n",
       "  {'id': '9a42c90fd2bd2b13cc19e55430a6c69c7565f2d1',\n",
       "   'is_active': False,\n",
       "   'is_private_session': False,\n",
       "   'is_restricted': False,\n",
       "   'name': 'Family Room - Main',\n",
       "   'type': 'Speaker',\n",
       "   'volume_percent': 76},\n",
       "  {'id': 'b7b9fb981aaaff91ef1fa0792da30d357c287127',\n",
       "   'is_active': False,\n",
       "   'is_private_session': False,\n",
       "   'is_restricted': False,\n",
       "   'name': 'SoundTouch Amp Outside',\n",
       "   'type': 'Speaker',\n",
       "   'volume_percent': 0},\n",
       "  {'id': 'cecfbc1366a26790c524e715b465c36ba06c8c96',\n",
       "   'is_active': False,\n",
       "   'is_private_session': False,\n",
       "   'is_restricted': False,\n",
       "   'name': \"Justin's Echo\",\n",
       "   'type': 'Speaker',\n",
       "   'volume_percent': 14},\n",
       "  {'id': 'd40c5d4ac48f40c28d2dacdd9a8bfdfc97871832',\n",
       "   'is_active': False,\n",
       "   'is_private_session': False,\n",
       "   'is_restricted': False,\n",
       "   'name': 'DESKTOP-EUEBIVK',\n",
       "   'type': 'Computer',\n",
       "   'volume_percent': 100}]}"
      ]
     },
     "execution_count": 56,
     "metadata": {},
     "output_type": "execute_result"
    }
   ],
   "source": [
    "sp.devices()"
   ]
  },
  {
   "cell_type": "code",
   "execution_count": null,
   "metadata": {},
   "outputs": [],
   "source": []
  }
 ],
 "metadata": {
  "kernelspec": {
   "display_name": "Python 3",
   "language": "python",
   "name": "python3"
  },
  "language_info": {
   "codemirror_mode": {
    "name": "ipython",
    "version": 3
   },
   "file_extension": ".py",
   "mimetype": "text/x-python",
   "name": "python",
   "nbconvert_exporter": "python",
   "pygments_lexer": "ipython3",
   "version": "3.7.3"
  }
 },
 "nbformat": 4,
 "nbformat_minor": 4
}
