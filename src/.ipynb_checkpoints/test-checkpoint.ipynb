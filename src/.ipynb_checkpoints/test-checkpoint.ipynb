{
 "cells": [
  {
   "cell_type": "code",
   "execution_count": 1,
   "metadata": {},
   "outputs": [
    {
     "name": "stdout",
     "output_type": "stream",
     "text": [
      "C:\\Users\\justi\\Documents\n",
      "C:\\Users\\justi\\Documents\n"
     ]
    }
   ],
   "source": [
    "import spotipy\n",
    "import spotipy.util\n",
    "import sys\n",
    "sys.path.insert(1, '/Users/justi/Documents/public_repos/flamio/src/api')\n",
    "sys.path.insert(1, '/Users/justi/Documents/public_repos/flamio/')\n",
    "import utils.flamio as flamio\n",
    "import loopify as lp\n",
    "import playlist as pl\n",
    "import utils.select as select\n",
    "from IPython.display import Image"
   ]
  },
  {
   "cell_type": "code",
   "execution_count": 3,
   "metadata": {},
   "outputs": [
    {
     "data": {
      "text/plain": [
       "{'jr': {'name': 'jr',\n",
       "  'spotify': {'flamio_name': 'jr',\n",
       "   'service': 'spotify',\n",
       "   'pauseKill': True,\n",
       "   'login_time': 1574011985.301847,\n",
       "   'refresh': 3600,\n",
       "   'username': '12125880630',\n",
       "   'token': 'BQCHGVX1r3RdX-NivxCCpayxah2ozvKjak2uLed9wmPl8pDMR6DqdsHMSey5MR299IEmZoHtep1K1OiJcmvcJhgCRYv81MDSN_KXmQDYVWSR4AClrxgTyHjGlQxCoyC9D07S5-2gI2yvZuDjiSEsqR6a2c532D-SMg',\n",
       "   'loops': {},\n",
       "   'skips': {'61dDPZtcDDD9mUnLfFVe5l': {'intro': '0:00-1:06'}},\n",
       "   'playlists': {'test': [{'field': 'skips',\n",
       "      'song_id': '61dDPZtcDDD9mUnLfFVe5l',\n",
       "      'name': 'intro',\n",
       "      'reps': 2},\n",
       "     {'field': 'loops',\n",
       "      'song_id': '17Gc3nccAq160HJlYryX3r',\n",
       "      'name': 'FULLSONG',\n",
       "      'reps': 2,\n",
       "      'end': '3:39'}]},\n",
       "   'stremixes': {}},\n",
       "  'soundcloud': {},\n",
       "  'apple_music': {}}}"
      ]
     },
     "execution_count": 3,
     "metadata": {},
     "output_type": "execute_result"
    }
   ],
   "source": [
    "flamio.get_users()"
   ]
  },
  {
   "cell_type": "code",
   "execution_count": 3,
   "metadata": {},
   "outputs": [],
   "source": [
    "flamio.new_user_and_service(username='jr', service='spotify', service_un='12125880630')"
   ]
  },
  {
   "cell_type": "code",
   "execution_count": 5,
   "metadata": {},
   "outputs": [],
   "source": [
    "lp.add_skip('jr','spotify', song_id=songid, name='intro', end='1:06')"
   ]
  },
  {
   "cell_type": "code",
   "execution_count": 2,
   "metadata": {},
   "outputs": [
    {
     "name": "stdin",
     "output_type": "stream",
     "text": [
      "use currently selected device? (y/n):  y\n"
     ]
    }
   ],
   "source": [
    "device = select.device('jr', 'spotify')"
   ]
  },
  {
   "cell_type": "code",
   "execution_count": 24,
   "metadata": {},
   "outputs": [
    {
     "name": "stdout",
     "output_type": "stream",
     "text": [
      "1. Full Bloom | Kota the Friend/Isa Reyes/Richard Parker | [explicit] | FOTO | 44\n"
     ]
    },
    {
     "name": "stdin",
     "output_type": "stream",
     "text": [
      "\n",
      "result number, (next/back) to change result page, or quit:  1\n"
     ]
    },
    {
     "data": {
      "text/html": [
       "<img src=\"https://i.scdn.co/image/ab67616d00001e02303f3cbf4255aa446b6fcda4\"/>"
      ],
      "text/plain": [
       "<IPython.core.display.Image object>"
      ]
     },
     "metadata": {},
     "output_type": "display_data"
    },
    {
     "name": "stdout",
     "output_type": "stream",
     "text": [
      "playing: Full Bloom -- skip - intro\n"
     ]
    }
   ],
   "source": [
    "songid=select.from_search('jr','spotify','full bloom kota',field='track')\n",
    "display(Image(url=flamio.get_player('jr','spotify').track(songid)['album']['images'][1]['url']))\n",
    "lp.play_skip('jr','spotify',songid, name='intro',reps=2,device=device)"
   ]
  },
  {
   "cell_type": "code",
   "execution_count": 7,
   "metadata": {},
   "outputs": [
    {
     "name": "stdout",
     "output_type": "stream",
     "text": [
      "1. Theme Music | tobi lou | [explicit] | Live on Ice | 45\n",
      "2. Piano Sonata No. 11 in A Major, K. 331: I. Theme and Variations: Andante grazioso (arr. T. Reiser) | Wolfgang Amadeus Mozart/Tobi Reiser/Tobi Reiser Quintet |  | Salzburger Stubenmusik: Historische aufnahmen mit Tobi Reiser Sen | 5\n"
     ]
    },
    {
     "name": "stdin",
     "output_type": "stream",
     "text": [
      "\n",
      "result number, (next/back) to change result page, or quit:  1\n"
     ]
    },
    {
     "data": {
      "text/html": [
       "<img src=\"https://i.scdn.co/image/ab67616d00001e024f68236f949491574f670590\"/>"
      ],
      "text/plain": [
       "<IPython.core.display.Image object>"
      ]
     },
     "metadata": {},
     "output_type": "display_data"
    },
    {
     "name": "stdout",
     "output_type": "stream",
     "text": [
      "playing: Theme Music -- loop - 0:0 to 3:39.0\n"
     ]
    }
   ],
   "source": [
    "songname = 'theme music tobi' or input('song name: ')\n",
    "song=select.from_search('jr','spotify',songname,field='track')\n",
    "display(Image(url=flamio.get_player('jr','spotify').track(song)['album']['images'][1]['url']))\n",
    "lp.play_loop('jr','spotify',song, reps=2,device=device,end='3:39',checks=1000)"
   ]
  },
  {
   "cell_type": "code",
   "execution_count": 10,
   "metadata": {},
   "outputs": [],
   "source": [
    "pl.new('jr','spotify','test')"
   ]
  },
  {
   "cell_type": "code",
   "execution_count": 8,
   "metadata": {},
   "outputs": [],
   "source": [
    "pl.add_skip('jr','spotify','test',songid,'intro',position=1)"
   ]
  },
  {
   "cell_type": "code",
   "execution_count": 30,
   "metadata": {},
   "outputs": [],
   "source": [
    "pl.delete_item('jr','spotify','test',position=2)"
   ]
  },
  {
   "cell_type": "code",
   "execution_count": 8,
   "metadata": {},
   "outputs": [],
   "source": [
    "pl.add_loop('jr','spotify','test',song,end='3:39',reps=2)"
   ]
  },
  {
   "cell_type": "code",
   "execution_count": 10,
   "metadata": {},
   "outputs": [],
   "source": [
    "pl.change_reps('jr','spotify','test',position=1,reps=2)"
   ]
  },
  {
   "cell_type": "code",
   "execution_count": 11,
   "metadata": {},
   "outputs": [
    {
     "data": {
      "text/plain": [
       "{'jr': {'name': 'jr',\n",
       "  'spotify': {'flamio_name': 'jr',\n",
       "   'service': 'spotify',\n",
       "   'pauseKill': True,\n",
       "   'login_time': 1573934660.2554095,\n",
       "   'refresh': 3600,\n",
       "   'username': '12125880630',\n",
       "   'token': 'BQC0M2dzZ_s4pNluR6c9LlhZS6wKO3Obcc8AmF4zajAeNOf3spc8wHH87Hgk3dwT93zROpNXIhY3tGY41DkzX34T26V4jrH6eeEitKlcgEfCyp7Zf4v_C_YUXV6uU89mesICskCNZvybI7g1ySjXAZJWGI6TomcY_w',\n",
       "   'loops': {},\n",
       "   'skips': {'61dDPZtcDDD9mUnLfFVe5l': {'intro': '0:00-1:06'}},\n",
       "   'playlists': {'test': [{'field': 'skips',\n",
       "      'song_id': '61dDPZtcDDD9mUnLfFVe5l',\n",
       "      'name': 'intro',\n",
       "      'reps': 2},\n",
       "     {'field': 'loops',\n",
       "      'song_id': '17Gc3nccAq160HJlYryX3r',\n",
       "      'name': 'FULLSONG',\n",
       "      'reps': 2,\n",
       "      'end': '3:39'}]},\n",
       "   'stremixes': {}},\n",
       "  'soundcloud': {},\n",
       "  'apple_music': {}}}"
      ]
     },
     "execution_count": 11,
     "metadata": {},
     "output_type": "execute_result"
    }
   ],
   "source": [
    "flamio.get_users()"
   ]
  },
  {
   "cell_type": "code",
   "execution_count": 3,
   "metadata": {},
   "outputs": [
    {
     "name": "stdout",
     "output_type": "stream",
     "text": [
      "playing playlist: test\n",
      "playing: Full Bloom -- skip - intro\n",
      "playing: Theme Music -- loop - 0:0 to 3:39.0\n",
      "playing: Full Bloom -- skip - intro\n",
      "playing: Theme Music -- loop - 0:0 to 3:39.0\n",
      "playing: Full Bloom -- skip - intro\n",
      "playing: Theme Music -- loop - 0:0 to 3:39.0\n",
      "playing: Full Bloom -- skip - intro\n"
     ]
    }
   ],
   "source": [
    "pl.play('jr','spotify','test',reps=2)"
   ]
  },
  {
   "cell_type": "code",
   "execution_count": 8,
   "metadata": {},
   "outputs": [
    {
     "name": "stdout",
     "output_type": "stream",
     "text": [
      "1. field: skips, song_id: 61dDPZtcDDD9mUnLfFVe5l, name: intro, reps: 2\n",
      "2. field: loops, song_id: 17Gc3nccAq160HJlYryX3r, name: FULLSONG, reps: 2, end: 3:39\n"
     ]
    }
   ],
   "source": [
    "pl.view('test',user=flamio.get_users()['jr']['spotify'])"
   ]
  },
  {
   "cell_type": "code",
   "execution_count": 16,
   "metadata": {},
   "outputs": [],
   "source": [
    "pl.move_item('jr','spotify','test',1,2)"
   ]
  },
  {
   "cell_type": "code",
   "execution_count": 6,
   "metadata": {},
   "outputs": [],
   "source": [
    "pl.duplicate_item('jr','spotify','test',1,6)"
   ]
  },
  {
   "cell_type": "code",
   "execution_count": null,
   "metadata": {},
   "outputs": [],
   "source": []
  }
 ],
 "metadata": {
  "kernelspec": {
   "display_name": "Python 3",
   "language": "python",
   "name": "python3"
  },
  "language_info": {
   "codemirror_mode": {
    "name": "ipython",
    "version": 3
   },
   "file_extension": ".py",
   "mimetype": "text/x-python",
   "name": "python",
   "nbconvert_exporter": "python",
   "pygments_lexer": "ipython3",
   "version": "3.7.3"
  }
 },
 "nbformat": 4,
 "nbformat_minor": 4
}
