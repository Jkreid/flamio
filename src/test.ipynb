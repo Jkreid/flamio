{
 "cells": [
  {
   "cell_type": "code",
   "execution_count": 1,
   "metadata": {},
   "outputs": [],
   "source": [
    "import spotipy\n",
    "import spotipy.util\n",
    "import sys\n",
    "sys.path.insert(1, '/Users/justi/Documents/public_repos/flamio/src/api')\n",
    "import utils.flamio as flamio\n",
    "import loopify as lp\n",
    "import playlist as pl\n",
    "import utils.select as select"
   ]
  },
  {
   "cell_type": "code",
   "execution_count": 2,
   "metadata": {},
   "outputs": [],
   "source": [
    "users = flamio.get_users()"
   ]
  },
  {
   "cell_type": "code",
   "execution_count": 3,
   "metadata": {},
   "outputs": [],
   "source": [
    "flamio.new_user_and_service(username='jr', service='spotify', service_un='12125880630')"
   ]
  },
  {
   "cell_type": "code",
   "execution_count": 13,
   "metadata": {},
   "outputs": [
    {
     "data": {
      "text/plain": [
       "{'display_name': 'Justin Reid',\n",
       " 'external_urls': {'spotify': 'https://open.spotify.com/user/12125880630'},\n",
       " 'followers': {'href': None, 'total': 26},\n",
       " 'href': 'https://api.spotify.com/v1/users/12125880630',\n",
       " 'id': '12125880630',\n",
       " 'images': [{'height': None,\n",
       "   'url': 'https://scontent.xx.fbcdn.net/v/t1.0-1/p200x200/12239464_957355900997348_5331836433461989709_n.jpg?_nc_cat=108&_nc_oc=AQnd81bl1Sd4jdPRBwcUjoeK2iTL9ZCZMSsuAzbJvROoeCT1IJkdiEnAzBOeyGtcwaY&_nc_ht=scontent.xx&oh=b22e8118b200a925e6b4aa47c48b642f&oe=5E8CDA65',\n",
       "   'width': None}],\n",
       " 'type': 'user',\n",
       " 'uri': 'spotify:user:12125880630'}"
      ]
     },
     "execution_count": 13,
     "metadata": {},
     "output_type": "execute_result"
    }
   ],
   "source": [
    "flamio.get_player(username='jr',service='spotify',users=users).user('12125880630')"
   ]
  },
  {
   "cell_type": "code",
   "execution_count": 13,
   "metadata": {},
   "outputs": [
    {
     "name": "stdout",
     "output_type": "stream",
     "text": [
      "1. Wishing on a Star | Rose Royce |  | In Full Bloom | 57\n",
      "2. Full Bloom | Kota the Friend/Isa Reyes/Richard Parker | [explicit] | FOTO | 44\n",
      "3. Doom In Full Bloom | American Football |  | American Football (LP3) | 36\n",
      "4. Should've Been Loving You | BigDaddyGang | [explicit] | Full Bloom | 36\n",
      "5. When the Summer Ends | Savoir Adore |  | Full Bloom | 43\n",
      "6. Fast Chunk | Sorrey |  | In Full Bloom | 35\n",
      "7. Ooh Boy | Rose Royce |  | In Full Bloom | 33\n",
      "8. Slow Motion | Savoir Adore |  | Full Bloom | 31\n",
      "9. Body Heat | Savoir Adore |  | Full Bloom | 32\n",
      "10. Full Bloom | Sorrey |  | Full Bloom | 31\n"
     ]
    },
    {
     "name": "stdin",
     "output_type": "stream",
     "text": [
      "\n",
      "result number, (next/back) to change result page, or quit:  1\n"
     ]
    }
   ],
   "source": [
    "songid=select.from_search('jr','spotify','full bloom',field='track')"
   ]
  },
  {
   "cell_type": "code",
   "execution_count": 12,
   "metadata": {},
   "outputs": [
    {
     "data": {
      "text/plain": [
       "'61dDPZtcDDD9mUnLfFVe5l'"
      ]
     },
     "execution_count": 12,
     "metadata": {},
     "output_type": "execute_result"
    }
   ],
   "source": [
    "songid"
   ]
  },
  {
   "cell_type": "code",
   "execution_count": null,
   "metadata": {},
   "outputs": [],
   "source": []
  }
 ],
 "metadata": {
  "kernelspec": {
   "display_name": "Python 3",
   "language": "python",
   "name": "python3"
  },
  "language_info": {
   "codemirror_mode": {
    "name": "ipython",
    "version": 3
   },
   "file_extension": ".py",
   "mimetype": "text/x-python",
   "name": "python",
   "nbconvert_exporter": "python",
   "pygments_lexer": "ipython3",
   "version": "3.7.3"
  }
 },
 "nbformat": 4,
 "nbformat_minor": 4
}
