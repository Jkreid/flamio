{
 "cells": [
  {
   "cell_type": "markdown",
   "metadata": {},
   "source": [
    "### \"It was bitter work, but the results... were worth it\" - Roku"
   ]
  },
  {
   "cell_type": "code",
   "execution_count": 1,
   "metadata": {},
   "outputs": [],
   "source": [
    "import spotipy\n",
    "import pandas as pd\n",
    "import spotipy.util as util\n",
    "import user\n",
    "import utils\n",
    "import loopify"
   ]
  },
  {
   "cell_type": "code",
   "execution_count": 2,
   "metadata": {},
   "outputs": [],
   "source": [
    "jreid=user.new_user('12125880630','test','test',persist=True)"
   ]
  },
  {
   "cell_type": "code",
   "execution_count": 2,
   "metadata": {},
   "outputs": [],
   "source": [
    "jreid=user.load_user('12125880630', 'test')"
   ]
  },
  {
   "cell_type": "code",
   "execution_count": 3,
   "metadata": {},
   "outputs": [
    {
     "name": "stdin",
     "output_type": "stream",
     "text": [
      "enter song for search:  is there more\n"
     ]
    },
    {
     "name": "stdout",
     "output_type": "stream",
     "text": [
      "1. Is There More | Drake | [explicit] | Scorpion | 65\n",
      "2. Who You Say I Am - Live | Hillsong Worship |  | There Is More (Live) | 63\n",
      "3. New Wine - Live | Hillsong Worship |  | There Is More (Live) | 60\n",
      "4. Touch Of Heaven - Live | Hillsong Worship |  | There Is More (Live) | 56\n",
      "5. New Wine | Hillsong Worship |  | There Is More (Studio Sessions) | 56\n",
      "6. So Will I (100 Billion X) - Live | Hillsong Worship |  | There Is More (Live) | 54\n",
      "7. Who You Say I Am | Hillsong Worship |  | There Is More (Studio Sessions) | 54\n",
      "8. Be Still - Live | Hillsong Worship |  | There Is More (Live) | 52\n",
      "9. The Passion - Live | Hillsong Worship |  | There Is More (Live) | 51\n",
      "10. Seasons - Live | Hillsong Worship |  | There Is More (Live) | 50\n"
     ]
    },
    {
     "name": "stdin",
     "output_type": "stream",
     "text": [
      "\n",
      "result number, (next/back) to change result page, or quit:  1\n"
     ]
    }
   ],
   "source": [
    "jreid.call(loopify.add,end='3:14',name='test')"
   ]
  },
  {
   "cell_type": "code",
   "execution_count": 4,
   "metadata": {},
   "outputs": [
    {
     "name": "stdin",
     "output_type": "stream",
     "text": [
      "enter song for search:  is there more\n"
     ]
    },
    {
     "name": "stdout",
     "output_type": "stream",
     "text": [
      "1. Is There More | Drake | [explicit] | Scorpion | 65\n",
      "2. Who You Say I Am - Live | Hillsong Worship |  | There Is More (Live) | 63\n",
      "3. New Wine - Live | Hillsong Worship |  | There Is More (Live) | 60\n",
      "4. Touch Of Heaven - Live | Hillsong Worship |  | There Is More (Live) | 56\n",
      "5. New Wine | Hillsong Worship |  | There Is More (Studio Sessions) | 56\n",
      "6. So Will I (100 Billion X) - Live | Hillsong Worship |  | There Is More (Live) | 54\n",
      "7. Who You Say I Am | Hillsong Worship |  | There Is More (Studio Sessions) | 54\n",
      "8. Be Still - Live | Hillsong Worship |  | There Is More (Live) | 52\n",
      "9. The Passion - Live | Hillsong Worship |  | There Is More (Live) | 51\n",
      "10. Seasons - Live | Hillsong Worship |  | There Is More (Live) | 50\n"
     ]
    },
    {
     "name": "stdin",
     "output_type": "stream",
     "text": [
      "\n",
      "result number, (next/back) to change result page, or quit:  1\n"
     ]
    }
   ],
   "source": [
    "jreid.call(loopify.add,start='3:14',name='test2',include=False)"
   ]
  },
  {
   "cell_type": "code",
   "execution_count": 5,
   "metadata": {},
   "outputs": [
    {
     "name": "stdin",
     "output_type": "stream",
     "text": [
      "enter song for search:  pound cake\n"
     ]
    },
    {
     "name": "stdout",
     "output_type": "stream",
     "text": [
      "1. Pound Cake / Paris Morton Music 2 | Drake/JAY Z | [explicit] | Nothing Was The Same | 62\n",
      "2. Pound Cake / Paris Morton Music 2 | Drake/JAY Z | [explicit] | Nothing Was The Same (Deluxe) | 52\n",
      "3. Pound Cake | Spade O/Meek Mill |  | Unchained | 38\n",
      "4. Pound Cake / Paris Morton Music 2 | Drake/JAY Z |  | Nothing Was The Same | 33\n",
      "5. Pound Cake | Swaggz | [explicit] | From Nothing to Something | 41\n",
      "6. Dollar Pound Cake | T MULLA | [explicit] | Dollar Pound Cake | 57\n",
      "7. Pound Cake | Jake Lambo | [explicit] | 1st Period | 31\n",
      "8. Pound Cake (Remix) | Chase da Bank |  | R.E.A.L | 35\n",
      "9. Pound Cake Remix (feat. Lil Aj, Stef Stax & Hd) | Shady Nate/HD/Stef Stax/Lil AJ | [explicit] | The Bo-Fessional 2 | 30\n",
      "10. Pound Cake | DEVI |  | Pound Cake | 31\n"
     ]
    },
    {
     "name": "stdin",
     "output_type": "stream",
     "text": [
      "\n",
      "result number, (next/back) to change result page, or quit:  2\n"
     ]
    }
   ],
   "source": [
    "jreid.call(loopify.add,start='4:25',end='6:51',name='goat')"
   ]
  },
  {
   "cell_type": "code",
   "execution_count": 6,
   "metadata": {},
   "outputs": [
    {
     "name": "stdout",
     "output_type": "stream",
     "text": [
      "1. Is There More | Drake | [explicit]\n",
      "2. Pound Cake / Paris Morton Music 2 | Drake/JAY Z | [explicit]\n"
     ]
    },
    {
     "name": "stdin",
     "output_type": "stream",
     "text": [
      "song number:  2\n"
     ]
    }
   ],
   "source": [
    "jreid.call(loopify.edit,name='goat',new_end='6:52')"
   ]
  },
  {
   "cell_type": "code",
   "execution_count": 12,
   "metadata": {},
   "outputs": [
    {
     "name": "stdout",
     "output_type": "stream",
     "text": [
      "1. Is There More | Drake | [explicit]\n",
      "2. Pound Cake / Paris Morton Music 2 | Drake/JAY Z | [explicit]\n"
     ]
    },
    {
     "name": "stdin",
     "output_type": "stream",
     "text": [
      "song number:  2\n"
     ]
    },
    {
     "name": "stdout",
     "output_type": "stream",
     "text": [
      "1. goat\n"
     ]
    },
    {
     "name": "stdin",
     "output_type": "stream",
     "text": [
      "name number:  1\n",
      "use currently selected device? (y/n):  y\n"
     ]
    },
    {
     "name": "stdout",
     "output_type": "stream",
     "text": [
      "playing: goat - Pound Cake / Paris Morton Music 2\n"
     ]
    }
   ],
   "source": [
    "jreid.call(loopify.play,reps=1,include=True,repeat=False)"
   ]
  },
  {
   "cell_type": "code",
   "execution_count": 10,
   "metadata": {},
   "outputs": [],
   "source": [
    "jreid.persist_through_pause = True"
   ]
  },
  {
   "cell_type": "code",
   "execution_count": null,
   "metadata": {},
   "outputs": [],
   "source": []
  }
 ],
 "metadata": {
  "kernelspec": {
   "display_name": "Python 3",
   "language": "python",
   "name": "python3"
  },
  "language_info": {
   "codemirror_mode": {
    "name": "ipython",
    "version": 3
   },
   "file_extension": ".py",
   "mimetype": "text/x-python",
   "name": "python",
   "nbconvert_exporter": "python",
   "pygments_lexer": "ipython3",
   "version": "3.7.3"
  }
 },
 "nbformat": 4,
 "nbformat_minor": 4
}
